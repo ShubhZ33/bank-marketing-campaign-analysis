{
  "cells": [
    {
      "cell_type": "markdown",
      "metadata": {
        "id": "2gqoCmyikk77"
      },
      "source": [
        "# Exploratory Data Analysis and Model Building - Bank Marketing Campaign"
      ]
    },
    {
      "cell_type": "markdown",
      "metadata": {
        "id": "UIugITZNkk78"
      },
      "source": [
        "**Data Description**\n",
        "\n",
        "This is the classic marketing bank dataset uploaded originally in the UCI Machine Learning Repository. The dataset gives you information about a marketing campaign of a financial institution in which you will have to analyze in order to find ways to look for future strategies in order to improve future marketing campaigns for the bank.\n",
        "\n",
        "Kaggle URL to Download Dataset: https://www.kaggle.com/janiobachmann/bank-marketing-dataset"
      ]
    },
    {
      "cell_type": "markdown",
      "metadata": {
        "id": "-yfy9Tqjkk78"
      },
      "source": [
        "**What is a Term Deposit?**\n",
        "\n",
        "A Term deposit is a deposit that a bank or a financial institurion offers with a fixed rate (often better than just opening deposit account) in which your money will be returned back at a specific maturity time. For more information with regards to Term Deposits please click on this link from Investopedia: https://www.investopedia.com/terms/t/termdeposit.asp"
      ]
    },
    {
      "cell_type": "code",
      "execution_count": null,
      "metadata": {
        "id": "I2XC3DyLkk79"
      },
      "outputs": [],
      "source": [
        "import pandas as pd\n",
        "import numpy as np\n",
        "import matplotlib.pyplot as plt\n",
        "import seaborn as sns"
      ]
    },
    {
      "cell_type": "code",
      "execution_count": null,
      "metadata": {
        "id": "LKbCwLRukk79"
      },
      "outputs": [],
      "source": [
        "#create data drame to read data set\n",
        "df = pd.read_excel('/Bak.xlsx')"
      ]
    },
    {
      "cell_type": "code",
      "execution_count": null,
      "metadata": {
        "id": "OPWOU-V6kk79",
        "outputId": "b8f019b7-5afb-4679-edd7-85a9c2c42d71",
        "colab": {
          "base_uri": "https://localhost:8080/",
          "height": 270
        }
      },
      "outputs": [
        {
          "output_type": "execute_result",
          "data": {
            "text/plain": [
              "   age          job  marital  education default  balance housing loan  \\\n",
              "0   30   unemployed  married    primary      no     1787      no   no   \n",
              "1   33     services  married  secondary      no     4789     yes  yes   \n",
              "2   35   management   single   tertiary      no     1350     yes   no   \n",
              "3   30   management  married   tertiary      no     1476     yes  yes   \n",
              "4   59  blue-collar  married  secondary      no        0     yes   no   \n",
              "\n",
              "    contact  day month  duration  campaign  pdays  previous poutcome   y  \n",
              "0  cellular   19   oct        79         1     -1         0  unknown  no  \n",
              "1  cellular   11   may       220         1    339         4  failure  no  \n",
              "2  cellular   16   apr       185         1    330         1  failure  no  \n",
              "3   unknown    3   jun       199         4     -1         0  unknown  no  \n",
              "4   unknown    5   may       226         1     -1         0  unknown  no  "
            ],
            "text/html": [
              "\n",
              "  <div id=\"df-13617e68-6f76-49cb-8745-ab5b140b8b3e\">\n",
              "    <div class=\"colab-df-container\">\n",
              "      <div>\n",
              "<style scoped>\n",
              "    .dataframe tbody tr th:only-of-type {\n",
              "        vertical-align: middle;\n",
              "    }\n",
              "\n",
              "    .dataframe tbody tr th {\n",
              "        vertical-align: top;\n",
              "    }\n",
              "\n",
              "    .dataframe thead th {\n",
              "        text-align: right;\n",
              "    }\n",
              "</style>\n",
              "<table border=\"1\" class=\"dataframe\">\n",
              "  <thead>\n",
              "    <tr style=\"text-align: right;\">\n",
              "      <th></th>\n",
              "      <th>age</th>\n",
              "      <th>job</th>\n",
              "      <th>marital</th>\n",
              "      <th>education</th>\n",
              "      <th>default</th>\n",
              "      <th>balance</th>\n",
              "      <th>housing</th>\n",
              "      <th>loan</th>\n",
              "      <th>contact</th>\n",
              "      <th>day</th>\n",
              "      <th>month</th>\n",
              "      <th>duration</th>\n",
              "      <th>campaign</th>\n",
              "      <th>pdays</th>\n",
              "      <th>previous</th>\n",
              "      <th>poutcome</th>\n",
              "      <th>y</th>\n",
              "    </tr>\n",
              "  </thead>\n",
              "  <tbody>\n",
              "    <tr>\n",
              "      <th>0</th>\n",
              "      <td>30</td>\n",
              "      <td>unemployed</td>\n",
              "      <td>married</td>\n",
              "      <td>primary</td>\n",
              "      <td>no</td>\n",
              "      <td>1787</td>\n",
              "      <td>no</td>\n",
              "      <td>no</td>\n",
              "      <td>cellular</td>\n",
              "      <td>19</td>\n",
              "      <td>oct</td>\n",
              "      <td>79</td>\n",
              "      <td>1</td>\n",
              "      <td>-1</td>\n",
              "      <td>0</td>\n",
              "      <td>unknown</td>\n",
              "      <td>no</td>\n",
              "    </tr>\n",
              "    <tr>\n",
              "      <th>1</th>\n",
              "      <td>33</td>\n",
              "      <td>services</td>\n",
              "      <td>married</td>\n",
              "      <td>secondary</td>\n",
              "      <td>no</td>\n",
              "      <td>4789</td>\n",
              "      <td>yes</td>\n",
              "      <td>yes</td>\n",
              "      <td>cellular</td>\n",
              "      <td>11</td>\n",
              "      <td>may</td>\n",
              "      <td>220</td>\n",
              "      <td>1</td>\n",
              "      <td>339</td>\n",
              "      <td>4</td>\n",
              "      <td>failure</td>\n",
              "      <td>no</td>\n",
              "    </tr>\n",
              "    <tr>\n",
              "      <th>2</th>\n",
              "      <td>35</td>\n",
              "      <td>management</td>\n",
              "      <td>single</td>\n",
              "      <td>tertiary</td>\n",
              "      <td>no</td>\n",
              "      <td>1350</td>\n",
              "      <td>yes</td>\n",
              "      <td>no</td>\n",
              "      <td>cellular</td>\n",
              "      <td>16</td>\n",
              "      <td>apr</td>\n",
              "      <td>185</td>\n",
              "      <td>1</td>\n",
              "      <td>330</td>\n",
              "      <td>1</td>\n",
              "      <td>failure</td>\n",
              "      <td>no</td>\n",
              "    </tr>\n",
              "    <tr>\n",
              "      <th>3</th>\n",
              "      <td>30</td>\n",
              "      <td>management</td>\n",
              "      <td>married</td>\n",
              "      <td>tertiary</td>\n",
              "      <td>no</td>\n",
              "      <td>1476</td>\n",
              "      <td>yes</td>\n",
              "      <td>yes</td>\n",
              "      <td>unknown</td>\n",
              "      <td>3</td>\n",
              "      <td>jun</td>\n",
              "      <td>199</td>\n",
              "      <td>4</td>\n",
              "      <td>-1</td>\n",
              "      <td>0</td>\n",
              "      <td>unknown</td>\n",
              "      <td>no</td>\n",
              "    </tr>\n",
              "    <tr>\n",
              "      <th>4</th>\n",
              "      <td>59</td>\n",
              "      <td>blue-collar</td>\n",
              "      <td>married</td>\n",
              "      <td>secondary</td>\n",
              "      <td>no</td>\n",
              "      <td>0</td>\n",
              "      <td>yes</td>\n",
              "      <td>no</td>\n",
              "      <td>unknown</td>\n",
              "      <td>5</td>\n",
              "      <td>may</td>\n",
              "      <td>226</td>\n",
              "      <td>1</td>\n",
              "      <td>-1</td>\n",
              "      <td>0</td>\n",
              "      <td>unknown</td>\n",
              "      <td>no</td>\n",
              "    </tr>\n",
              "  </tbody>\n",
              "</table>\n",
              "</div>\n",
              "      <button class=\"colab-df-convert\" onclick=\"convertToInteractive('df-13617e68-6f76-49cb-8745-ab5b140b8b3e')\"\n",
              "              title=\"Convert this dataframe to an interactive table.\"\n",
              "              style=\"display:none;\">\n",
              "        \n",
              "  <svg xmlns=\"http://www.w3.org/2000/svg\" height=\"24px\"viewBox=\"0 0 24 24\"\n",
              "       width=\"24px\">\n",
              "    <path d=\"M0 0h24v24H0V0z\" fill=\"none\"/>\n",
              "    <path d=\"M18.56 5.44l.94 2.06.94-2.06 2.06-.94-2.06-.94-.94-2.06-.94 2.06-2.06.94zm-11 1L8.5 8.5l.94-2.06 2.06-.94-2.06-.94L8.5 2.5l-.94 2.06-2.06.94zm10 10l.94 2.06.94-2.06 2.06-.94-2.06-.94-.94-2.06-.94 2.06-2.06.94z\"/><path d=\"M17.41 7.96l-1.37-1.37c-.4-.4-.92-.59-1.43-.59-.52 0-1.04.2-1.43.59L10.3 9.45l-7.72 7.72c-.78.78-.78 2.05 0 2.83L4 21.41c.39.39.9.59 1.41.59.51 0 1.02-.2 1.41-.59l7.78-7.78 2.81-2.81c.8-.78.8-2.07 0-2.86zM5.41 20L4 18.59l7.72-7.72 1.47 1.35L5.41 20z\"/>\n",
              "  </svg>\n",
              "      </button>\n",
              "      \n",
              "  <style>\n",
              "    .colab-df-container {\n",
              "      display:flex;\n",
              "      flex-wrap:wrap;\n",
              "      gap: 12px;\n",
              "    }\n",
              "\n",
              "    .colab-df-convert {\n",
              "      background-color: #E8F0FE;\n",
              "      border: none;\n",
              "      border-radius: 50%;\n",
              "      cursor: pointer;\n",
              "      display: none;\n",
              "      fill: #1967D2;\n",
              "      height: 32px;\n",
              "      padding: 0 0 0 0;\n",
              "      width: 32px;\n",
              "    }\n",
              "\n",
              "    .colab-df-convert:hover {\n",
              "      background-color: #E2EBFA;\n",
              "      box-shadow: 0px 1px 2px rgba(60, 64, 67, 0.3), 0px 1px 3px 1px rgba(60, 64, 67, 0.15);\n",
              "      fill: #174EA6;\n",
              "    }\n",
              "\n",
              "    [theme=dark] .colab-df-convert {\n",
              "      background-color: #3B4455;\n",
              "      fill: #D2E3FC;\n",
              "    }\n",
              "\n",
              "    [theme=dark] .colab-df-convert:hover {\n",
              "      background-color: #434B5C;\n",
              "      box-shadow: 0px 1px 3px 1px rgba(0, 0, 0, 0.15);\n",
              "      filter: drop-shadow(0px 1px 2px rgba(0, 0, 0, 0.3));\n",
              "      fill: #FFFFFF;\n",
              "    }\n",
              "  </style>\n",
              "\n",
              "      <script>\n",
              "        const buttonEl =\n",
              "          document.querySelector('#df-13617e68-6f76-49cb-8745-ab5b140b8b3e button.colab-df-convert');\n",
              "        buttonEl.style.display =\n",
              "          google.colab.kernel.accessAllowed ? 'block' : 'none';\n",
              "\n",
              "        async function convertToInteractive(key) {\n",
              "          const element = document.querySelector('#df-13617e68-6f76-49cb-8745-ab5b140b8b3e');\n",
              "          const dataTable =\n",
              "            await google.colab.kernel.invokeFunction('convertToInteractive',\n",
              "                                                     [key], {});\n",
              "          if (!dataTable) return;\n",
              "\n",
              "          const docLinkHtml = 'Like what you see? Visit the ' +\n",
              "            '<a target=\"_blank\" href=https://colab.research.google.com/notebooks/data_table.ipynb>data table notebook</a>'\n",
              "            + ' to learn more about interactive tables.';\n",
              "          element.innerHTML = '';\n",
              "          dataTable['output_type'] = 'display_data';\n",
              "          await google.colab.output.renderOutput(dataTable, element);\n",
              "          const docLink = document.createElement('div');\n",
              "          docLink.innerHTML = docLinkHtml;\n",
              "          element.appendChild(docLink);\n",
              "        }\n",
              "      </script>\n",
              "    </div>\n",
              "  </div>\n",
              "  "
            ]
          },
          "metadata": {},
          "execution_count": 9
        }
      ],
      "source": [
        "df.head()"
      ]
    },
    {
      "cell_type": "code",
      "execution_count": null,
      "metadata": {
        "id": "1n4IsJ8Okk7-",
        "outputId": "e7a13a3f-99db-4af3-e477-8fcb50e945e0",
        "colab": {
          "base_uri": "https://localhost:8080/"
        }
      },
      "outputs": [
        {
          "output_type": "stream",
          "name": "stdout",
          "text": [
            "<class 'pandas.core.frame.DataFrame'>\n",
            "RangeIndex: 4521 entries, 0 to 4520\n",
            "Data columns (total 17 columns):\n",
            " #   Column     Non-Null Count  Dtype \n",
            "---  ------     --------------  ----- \n",
            " 0   age        4521 non-null   int64 \n",
            " 1   job        4521 non-null   object\n",
            " 2   marital    4521 non-null   object\n",
            " 3   education  4521 non-null   object\n",
            " 4   default    4521 non-null   object\n",
            " 5   balance    4521 non-null   int64 \n",
            " 6   housing    4521 non-null   object\n",
            " 7   loan       4521 non-null   object\n",
            " 8   contact    4521 non-null   object\n",
            " 9   day        4521 non-null   int64 \n",
            " 10  month      4521 non-null   object\n",
            " 11  duration   4521 non-null   int64 \n",
            " 12  campaign   4521 non-null   int64 \n",
            " 13  pdays      4521 non-null   int64 \n",
            " 14  previous   4521 non-null   int64 \n",
            " 15  poutcome   4521 non-null   object\n",
            " 16  y          4521 non-null   object\n",
            "dtypes: int64(7), object(10)\n",
            "memory usage: 600.6+ KB\n"
          ]
        }
      ],
      "source": [
        "# check the df structe\n",
        "df.info()"
      ]
    },
    {
      "cell_type": "code",
      "execution_count": null,
      "metadata": {
        "id": "u2oWj3Edkk7-",
        "outputId": "48f578c4-b12f-4de6-a91c-757975a8871d",
        "colab": {
          "base_uri": "https://localhost:8080/"
        }
      },
      "outputs": [
        {
          "output_type": "execute_result",
          "data": {
            "text/plain": [
              "(4521, 17)"
            ]
          },
          "metadata": {},
          "execution_count": 11
        }
      ],
      "source": [
        "# find number of rows and column\n",
        "df.shape"
      ]
    },
    {
      "cell_type": "code",
      "execution_count": null,
      "metadata": {
        "id": "C5e8y3CSkk7-",
        "outputId": "d4780e97-2c22-447d-976c-1a8255fee965",
        "colab": {
          "base_uri": "https://localhost:8080/",
          "height": 300
        }
      },
      "outputs": [
        {
          "output_type": "execute_result",
          "data": {
            "text/plain": [
              "               age       balance          day     duration     campaign  \\\n",
              "count  4521.000000   4521.000000  4521.000000  4521.000000  4521.000000   \n",
              "mean     41.170095   1422.657819    15.915284   263.961292     2.793630   \n",
              "std      10.576211   3009.638142     8.247667   259.856633     3.109807   \n",
              "min      19.000000  -3313.000000     1.000000     4.000000     1.000000   \n",
              "25%      33.000000     69.000000     9.000000   104.000000     1.000000   \n",
              "50%      39.000000    444.000000    16.000000   185.000000     2.000000   \n",
              "75%      49.000000   1480.000000    21.000000   329.000000     3.000000   \n",
              "max      87.000000  71188.000000    31.000000  3025.000000    50.000000   \n",
              "\n",
              "             pdays     previous  \n",
              "count  4521.000000  4521.000000  \n",
              "mean     39.766645     0.542579  \n",
              "std     100.121124     1.693562  \n",
              "min      -1.000000     0.000000  \n",
              "25%      -1.000000     0.000000  \n",
              "50%      -1.000000     0.000000  \n",
              "75%      -1.000000     0.000000  \n",
              "max     871.000000    25.000000  "
            ],
            "text/html": [
              "\n",
              "  <div id=\"df-b99249d3-61de-4e01-924e-1f4d418c8316\">\n",
              "    <div class=\"colab-df-container\">\n",
              "      <div>\n",
              "<style scoped>\n",
              "    .dataframe tbody tr th:only-of-type {\n",
              "        vertical-align: middle;\n",
              "    }\n",
              "\n",
              "    .dataframe tbody tr th {\n",
              "        vertical-align: top;\n",
              "    }\n",
              "\n",
              "    .dataframe thead th {\n",
              "        text-align: right;\n",
              "    }\n",
              "</style>\n",
              "<table border=\"1\" class=\"dataframe\">\n",
              "  <thead>\n",
              "    <tr style=\"text-align: right;\">\n",
              "      <th></th>\n",
              "      <th>age</th>\n",
              "      <th>balance</th>\n",
              "      <th>day</th>\n",
              "      <th>duration</th>\n",
              "      <th>campaign</th>\n",
              "      <th>pdays</th>\n",
              "      <th>previous</th>\n",
              "    </tr>\n",
              "  </thead>\n",
              "  <tbody>\n",
              "    <tr>\n",
              "      <th>count</th>\n",
              "      <td>4521.000000</td>\n",
              "      <td>4521.000000</td>\n",
              "      <td>4521.000000</td>\n",
              "      <td>4521.000000</td>\n",
              "      <td>4521.000000</td>\n",
              "      <td>4521.000000</td>\n",
              "      <td>4521.000000</td>\n",
              "    </tr>\n",
              "    <tr>\n",
              "      <th>mean</th>\n",
              "      <td>41.170095</td>\n",
              "      <td>1422.657819</td>\n",
              "      <td>15.915284</td>\n",
              "      <td>263.961292</td>\n",
              "      <td>2.793630</td>\n",
              "      <td>39.766645</td>\n",
              "      <td>0.542579</td>\n",
              "    </tr>\n",
              "    <tr>\n",
              "      <th>std</th>\n",
              "      <td>10.576211</td>\n",
              "      <td>3009.638142</td>\n",
              "      <td>8.247667</td>\n",
              "      <td>259.856633</td>\n",
              "      <td>3.109807</td>\n",
              "      <td>100.121124</td>\n",
              "      <td>1.693562</td>\n",
              "    </tr>\n",
              "    <tr>\n",
              "      <th>min</th>\n",
              "      <td>19.000000</td>\n",
              "      <td>-3313.000000</td>\n",
              "      <td>1.000000</td>\n",
              "      <td>4.000000</td>\n",
              "      <td>1.000000</td>\n",
              "      <td>-1.000000</td>\n",
              "      <td>0.000000</td>\n",
              "    </tr>\n",
              "    <tr>\n",
              "      <th>25%</th>\n",
              "      <td>33.000000</td>\n",
              "      <td>69.000000</td>\n",
              "      <td>9.000000</td>\n",
              "      <td>104.000000</td>\n",
              "      <td>1.000000</td>\n",
              "      <td>-1.000000</td>\n",
              "      <td>0.000000</td>\n",
              "    </tr>\n",
              "    <tr>\n",
              "      <th>50%</th>\n",
              "      <td>39.000000</td>\n",
              "      <td>444.000000</td>\n",
              "      <td>16.000000</td>\n",
              "      <td>185.000000</td>\n",
              "      <td>2.000000</td>\n",
              "      <td>-1.000000</td>\n",
              "      <td>0.000000</td>\n",
              "    </tr>\n",
              "    <tr>\n",
              "      <th>75%</th>\n",
              "      <td>49.000000</td>\n",
              "      <td>1480.000000</td>\n",
              "      <td>21.000000</td>\n",
              "      <td>329.000000</td>\n",
              "      <td>3.000000</td>\n",
              "      <td>-1.000000</td>\n",
              "      <td>0.000000</td>\n",
              "    </tr>\n",
              "    <tr>\n",
              "      <th>max</th>\n",
              "      <td>87.000000</td>\n",
              "      <td>71188.000000</td>\n",
              "      <td>31.000000</td>\n",
              "      <td>3025.000000</td>\n",
              "      <td>50.000000</td>\n",
              "      <td>871.000000</td>\n",
              "      <td>25.000000</td>\n",
              "    </tr>\n",
              "  </tbody>\n",
              "</table>\n",
              "</div>\n",
              "      <button class=\"colab-df-convert\" onclick=\"convertToInteractive('df-b99249d3-61de-4e01-924e-1f4d418c8316')\"\n",
              "              title=\"Convert this dataframe to an interactive table.\"\n",
              "              style=\"display:none;\">\n",
              "        \n",
              "  <svg xmlns=\"http://www.w3.org/2000/svg\" height=\"24px\"viewBox=\"0 0 24 24\"\n",
              "       width=\"24px\">\n",
              "    <path d=\"M0 0h24v24H0V0z\" fill=\"none\"/>\n",
              "    <path d=\"M18.56 5.44l.94 2.06.94-2.06 2.06-.94-2.06-.94-.94-2.06-.94 2.06-2.06.94zm-11 1L8.5 8.5l.94-2.06 2.06-.94-2.06-.94L8.5 2.5l-.94 2.06-2.06.94zm10 10l.94 2.06.94-2.06 2.06-.94-2.06-.94-.94-2.06-.94 2.06-2.06.94z\"/><path d=\"M17.41 7.96l-1.37-1.37c-.4-.4-.92-.59-1.43-.59-.52 0-1.04.2-1.43.59L10.3 9.45l-7.72 7.72c-.78.78-.78 2.05 0 2.83L4 21.41c.39.39.9.59 1.41.59.51 0 1.02-.2 1.41-.59l7.78-7.78 2.81-2.81c.8-.78.8-2.07 0-2.86zM5.41 20L4 18.59l7.72-7.72 1.47 1.35L5.41 20z\"/>\n",
              "  </svg>\n",
              "      </button>\n",
              "      \n",
              "  <style>\n",
              "    .colab-df-container {\n",
              "      display:flex;\n",
              "      flex-wrap:wrap;\n",
              "      gap: 12px;\n",
              "    }\n",
              "\n",
              "    .colab-df-convert {\n",
              "      background-color: #E8F0FE;\n",
              "      border: none;\n",
              "      border-radius: 50%;\n",
              "      cursor: pointer;\n",
              "      display: none;\n",
              "      fill: #1967D2;\n",
              "      height: 32px;\n",
              "      padding: 0 0 0 0;\n",
              "      width: 32px;\n",
              "    }\n",
              "\n",
              "    .colab-df-convert:hover {\n",
              "      background-color: #E2EBFA;\n",
              "      box-shadow: 0px 1px 2px rgba(60, 64, 67, 0.3), 0px 1px 3px 1px rgba(60, 64, 67, 0.15);\n",
              "      fill: #174EA6;\n",
              "    }\n",
              "\n",
              "    [theme=dark] .colab-df-convert {\n",
              "      background-color: #3B4455;\n",
              "      fill: #D2E3FC;\n",
              "    }\n",
              "\n",
              "    [theme=dark] .colab-df-convert:hover {\n",
              "      background-color: #434B5C;\n",
              "      box-shadow: 0px 1px 3px 1px rgba(0, 0, 0, 0.15);\n",
              "      filter: drop-shadow(0px 1px 2px rgba(0, 0, 0, 0.3));\n",
              "      fill: #FFFFFF;\n",
              "    }\n",
              "  </style>\n",
              "\n",
              "      <script>\n",
              "        const buttonEl =\n",
              "          document.querySelector('#df-b99249d3-61de-4e01-924e-1f4d418c8316 button.colab-df-convert');\n",
              "        buttonEl.style.display =\n",
              "          google.colab.kernel.accessAllowed ? 'block' : 'none';\n",
              "\n",
              "        async function convertToInteractive(key) {\n",
              "          const element = document.querySelector('#df-b99249d3-61de-4e01-924e-1f4d418c8316');\n",
              "          const dataTable =\n",
              "            await google.colab.kernel.invokeFunction('convertToInteractive',\n",
              "                                                     [key], {});\n",
              "          if (!dataTable) return;\n",
              "\n",
              "          const docLinkHtml = 'Like what you see? Visit the ' +\n",
              "            '<a target=\"_blank\" href=https://colab.research.google.com/notebooks/data_table.ipynb>data table notebook</a>'\n",
              "            + ' to learn more about interactive tables.';\n",
              "          element.innerHTML = '';\n",
              "          dataTable['output_type'] = 'display_data';\n",
              "          await google.colab.output.renderOutput(dataTable, element);\n",
              "          const docLink = document.createElement('div');\n",
              "          docLink.innerHTML = docLinkHtml;\n",
              "          element.appendChild(docLink);\n",
              "        }\n",
              "      </script>\n",
              "    </div>\n",
              "  </div>\n",
              "  "
            ]
          },
          "metadata": {},
          "execution_count": 12
        }
      ],
      "source": [
        "# describe df numerical columns\n",
        "df.describe()"
      ]
    },
    {
      "cell_type": "code",
      "execution_count": null,
      "metadata": {
        "id": "tNagFyWskk7-",
        "outputId": "1c3ad0b4-4ce9-42e7-a3a8-c91535e619de",
        "colab": {
          "base_uri": "https://localhost:8080/"
        }
      },
      "outputs": [
        {
          "output_type": "stream",
          "name": "stdout",
          "text": [
            "job\n",
            "['unemployed' 'services' 'management' 'blue-collar' 'self-employed'\n",
            " 'technician' 'entrepreneur' 'admin.' 'student' 'housemaid' 'retired'\n",
            " 'unknown']\n",
            "marital\n",
            "['married' 'single' 'divorced']\n",
            "education\n",
            "['primary' 'secondary' 'tertiary' 'unknown']\n",
            "default\n",
            "['no' 'yes']\n",
            "housing\n",
            "['no' 'yes']\n",
            "loan\n",
            "['no' 'yes']\n",
            "contact\n",
            "['cellular' 'unknown' 'telephone']\n",
            "month\n",
            "['oct' 'may' 'apr' 'jun' 'feb' 'aug' 'jan' 'jul' 'nov' 'sep' 'mar' 'dec']\n",
            "poutcome\n",
            "['unknown' 'failure' 'other' 'success']\n",
            "y\n",
            "['no' 'yes']\n"
          ]
        }
      ],
      "source": [
        "for col in df.select_dtypes(include='object').columns:\n",
        "    print(col)\n",
        "    print(df[col].unique())"
      ]
    },
    {
      "cell_type": "markdown",
      "metadata": {
        "id": "VZ5cMYVFkk7-"
      },
      "source": [
        "**Data Description**\n",
        "\n",
        "This is the classic marketing bank dataset uploaded originally in the UCI Machine Learning Repository. The dataset gives you information about a marketing campaign of a financial institution in which you will have to analyze in order to find ways to look for future strategies in order to improve future marketing campaigns for the bank.\n",
        "\n",
        "**Feature**\n",
        "1. age | int64 | age in years\n",
        "2. job | object | type of job (categorical: ['admin.' 'technician' 'services' 'management' 'retired' 'blue-collar'\n",
        " 'unemployed' 'entrepreneur' 'housemaid' 'unknown' 'self-employed'\n",
        " 'student'])\n",
        "3. marital | object | marital status (categorical: ['married' 'single' 'divorced'])\n",
        "4. education | Object | education background (categorical: ['secondary' 'tertiary' 'primary' 'unknown'])\n",
        "5. default | Object | has credit in default?  (categorical: ['no' 'yes'])\n",
        "6. balance | int64 | Balance of the individual\n",
        "7. housing | object | has housing loan? (categorical: ['yes' 'no'])\n",
        "8. loan | object | has personal loan? (categorical: ['no' 'yes'])\n",
        "9. contact | object | contact communication type (categorical: ['unknown' 'cellular' 'telephone'])\n",
        "10. day | int64 | last contact day of the week (categorical: 'mon','tue','wed','thu','fri')\n",
        "11. month | object | last contact month of year (categorical: ['may' 'jun' 'jul' 'aug' 'oct' 'nov' 'dec' 'jan' 'feb' 'mar' 'apr' 'sep'])\n",
        "12. duration | int64 | last contact duration, in seconds (numeric)\n",
        "13. campaign | int64 | number of contacts performed during this campaign and for this client\n",
        "14. pdays | int64 | number of days that passed by after the client was last contacted from a previous campaign (numeric; 999 means client was not previously contacted)\n",
        "15. previous | int64 | number of contacts performed before this campaign and for this client\n",
        "16. poutcome | object | outcome of the previous marketing campaign (categorical: ['unknown' 'other' 'failure' 'success'])\n",
        "\n",
        "**Label**\n",
        "1. deposit | object | has the client subscribed a term deposit? (binary: 'yes','no')"
      ]
    },
    {
      "cell_type": "markdown",
      "metadata": {
        "id": "uVouBJp2kk7_"
      },
      "source": [
        "# Exploratory Data Analysis"
      ]
    },
    {
      "cell_type": "markdown",
      "metadata": {
        "id": "gmJF_y8ekk7_"
      },
      "source": [
        "- Find Unwanted Columns\n",
        "- Find Missing Values\n",
        "- Find Features with one value\n",
        "- Explore the Categorical Features\n",
        "- Find Categorical Feature Distribution\n",
        "- Relationship between Categorical Features and Label\n",
        "- Explore the Numerical Features\n",
        "- Find Discrete Numerical Features\n",
        "- Relation between Discrete numerical Features and Labels\n",
        "- Find Continous Numerical Features\n",
        "- Distribution of Continous Numerical Features\n",
        "- Relation between Continous numerical Features and Labels\n",
        "- Find Outliers in numerical features\n",
        "- Explore the Correlation between numerical features\n",
        "- Find Pair Plot\n",
        "- Check the Data set is balanced or not based on target values in classification"
      ]
    },
    {
      "cell_type": "markdown",
      "metadata": {
        "id": "waOFPJXxkk7_"
      },
      "source": [
        "**1. Find Unwanted Columns**"
      ]
    },
    {
      "cell_type": "markdown",
      "metadata": {
        "id": "n9kvp49Skk7_"
      },
      "source": [
        "**Take-away**:\n",
        "- these is no unwanted column present in given dataset to remove"
      ]
    },
    {
      "cell_type": "markdown",
      "metadata": {
        "id": "scpgC9SYkk7_"
      },
      "source": [
        "**2. Find Missing Values**"
      ]
    },
    {
      "cell_type": "code",
      "execution_count": null,
      "metadata": {
        "id": "ngv_y0L1kk7_",
        "outputId": "15847054-b846-4c09-d1e2-ac6c8599711b",
        "colab": {
          "base_uri": "https://localhost:8080/"
        }
      },
      "outputs": [
        {
          "output_type": "stream",
          "name": "stdout",
          "text": [
            "No missing value found\n"
          ]
        }
      ],
      "source": [
        "# find missing values\n",
        "features_na = [features for features in df.columns if df[features].isnull().sum() > 0]\n",
        "for feature in features_na:\n",
        "    print(feature, np.round(df[feature].isnull().mean(), 4),  ' % missing values')\n",
        "else:\n",
        "    print(\"No missing value found\")"
      ]
    },
    {
      "cell_type": "markdown",
      "metadata": {
        "id": "qPWDm8tHkk7_"
      },
      "source": [
        "**Take-away**:\n",
        "- No missing value found"
      ]
    },
    {
      "cell_type": "markdown",
      "metadata": {
        "id": "kzHnEPrdkk7_"
      },
      "source": [
        "**3. Find Features with One Value**"
      ]
    },
    {
      "cell_type": "code",
      "execution_count": null,
      "metadata": {
        "id": "oJ7ers2kkk7_",
        "outputId": "6a2be9e2-0fdd-4924-faf0-12f1e3fc5cdd",
        "colab": {
          "base_uri": "https://localhost:8080/"
        }
      },
      "outputs": [
        {
          "output_type": "stream",
          "name": "stdout",
          "text": [
            "age 67\n",
            "job 12\n",
            "marital 3\n",
            "education 4\n",
            "default 2\n",
            "balance 2353\n",
            "housing 2\n",
            "loan 2\n",
            "contact 3\n",
            "day 31\n",
            "month 12\n",
            "duration 875\n",
            "campaign 32\n",
            "pdays 292\n",
            "previous 24\n",
            "poutcome 4\n",
            "y 2\n"
          ]
        }
      ],
      "source": [
        "for column in df.columns:\n",
        "    print(column,df[column].nunique())"
      ]
    },
    {
      "cell_type": "markdown",
      "metadata": {
        "id": "gxhF7sA3kk8A"
      },
      "source": [
        "**Take-away**:\n",
        "- No feature with only one value"
      ]
    },
    {
      "cell_type": "markdown",
      "metadata": {
        "id": "SMxBxCCokk8A"
      },
      "source": [
        "**4. Explore the Categorical Features**"
      ]
    },
    {
      "cell_type": "code",
      "execution_count": null,
      "metadata": {
        "id": "qDZbkxXmkk8A",
        "outputId": "2dc1cbcb-684b-43de-aed8-b3324fd0a084",
        "colab": {
          "base_uri": "https://localhost:8080/"
        }
      },
      "outputs": [
        {
          "output_type": "execute_result",
          "data": {
            "text/plain": [
              "['job',\n",
              " 'marital',\n",
              " 'education',\n",
              " 'default',\n",
              " 'housing',\n",
              " 'loan',\n",
              " 'contact',\n",
              " 'month',\n",
              " 'poutcome',\n",
              " 'y']"
            ]
          },
          "metadata": {},
          "execution_count": 16
        }
      ],
      "source": [
        "categorical_features=[feature for feature in df.columns if ((df[feature].dtypes=='O') & (feature not in ['deposit']))]\n",
        "categorical_features"
      ]
    },
    {
      "cell_type": "code",
      "execution_count": null,
      "metadata": {
        "id": "Qa-9zwtikk8A",
        "outputId": "4bac19f3-7e0c-44c4-8149-b70b28675e71",
        "colab": {
          "base_uri": "https://localhost:8080/"
        }
      },
      "outputs": [
        {
          "output_type": "stream",
          "name": "stdout",
          "text": [
            "The feature is job and number of categories are 12\n",
            "The feature is marital and number of categories are 3\n",
            "The feature is education and number of categories are 4\n",
            "The feature is default and number of categories are 2\n",
            "The feature is housing and number of categories are 2\n",
            "The feature is loan and number of categories are 2\n",
            "The feature is contact and number of categories are 3\n",
            "The feature is month and number of categories are 12\n",
            "The feature is poutcome and number of categories are 4\n",
            "The feature is y and number of categories are 2\n"
          ]
        }
      ],
      "source": [
        "for feature in categorical_features:\n",
        "    print('The feature is {} and number of categories are {}'.format(feature,len(df[feature].unique())))"
      ]
    },
    {
      "cell_type": "markdown",
      "metadata": {
        "id": "zxIsVVhukk8A"
      },
      "source": [
        "**Take-away**:\n",
        "- there are 9 categorical features\n",
        "- feature job and month has highest number of categorical values"
      ]
    },
    {
      "cell_type": "markdown",
      "metadata": {
        "id": "cY_Q-3PNkk8A"
      },
      "source": [
        "**5. Find Categorical Feature Distribution**"
      ]
    },
    {
      "cell_type": "code",
      "execution_count": null,
      "metadata": {
        "id": "QHtt8uB-kk8A",
        "outputId": "a3d39eb4-92bd-409a-91ca-cee0af9fd2a8",
        "colab": {
          "base_uri": "https://localhost:8080/",
          "height": 1000
        }
      },
      "outputs": [
        {
          "output_type": "display_data",
          "data": {
            "text/plain": [
              "<Figure size 1080x5760 with 10 Axes>"
            ],
            "image/png": "[encoded data removed]"
          },
          "metadata": {}
        }
      ],
      "source": [
        "#check count based on categorical features\n",
        "plt.figure(figsize=(15,80), facecolor='white')\n",
        "plotnumber =1\n",
        "for categorical_feature in categorical_features:\n",
        "    ax = plt.subplot(12,3,plotnumber)\n",
        "    sns.countplot(y=categorical_feature,data=df)\n",
        "    plt.xlabel(categorical_feature)\n",
        "    plt.title(categorical_feature)\n",
        "    plotnumber+=1\n",
        "plt.show()"
      ]
    },
    {
      "cell_type": "markdown",
      "metadata": {
        "id": "nkvFl9Sbkk8A"
      },
      "source": [
        "**Take-away**:\n",
        "- client with job type as management records are high in given dataset and housemaid are very less\n",
        "- client who married are high in records in given dataset and divorced are less\n",
        "- client whoes education background is secondary are in high numbers in given dataset\n",
        "- defualt feature seems to be does not play importand role as it has value of no at high ratio to value yes which can drop\n",
        "- data in month of may is high and less in dec"
      ]
    },
    {
      "cell_type": "markdown",
      "metadata": {
        "id": "ZpNjLu5Rkk8B"
      },
      "source": [
        "**6. Relationship between Categorical Features and Label**"
      ]
    },
    {
      "cell_type": "code",
      "execution_count": null,
      "metadata": {
        "id": "6ELLv8cVkk8B",
        "outputId": "eb0617ea-a1f1-438a-db8f-5a4e3b1a3b42",
        "colab": {
          "base_uri": "https://localhost:8080/",
          "height": 1000
        }
      },
      "outputs": [
        {
          "output_type": "display_data",
          "data": {
            "text/plain": [
              "<Figure size 4320x360 with 12 Axes>"
            ],
            "image/png": "[encoded data removed]"
          },
          "metadata": {
            "needs_background": "light"
          }
        },
        {
          "output_type": "display_data",
          "data": {
            "text/plain": [
              "<Figure size 1080x360 with 3 Axes>"
            ],
            "image/png": "[encoded data removed]"
          },
          "metadata": {
            "needs_background": "light"
          }
        },
        {
          "output_type": "display_data",
          "data": {
            "text/plain": [
              "<Figure size 1440x360 with 4 Axes>"
            ],
            "image/png": "[encoded data removed]"
          },
          "metadata": {
            "needs_background": "light"
          }
        },
        {
          "output_type": "display_data",
          "data": {
            "text/plain": [
              "<Figure size 720x360 with 2 Axes>"
            ],
            "image/png": "[encoded data removed]"
          },
          "metadata": {
            "needs_background": "light"
          }
        },
        {
          "output_type": "display_data",
          "data": {
            "text/plain": [
              "<Figure size 720x360 with 2 Axes>"
            ],
            "image/png": "[encoded data removed]"
          },
          "metadata": {
            "needs_background": "light"
          }
        },
        {
          "output_type": "display_data",
          "data": {
            "text/plain": [
              "<Figure size 720x360 with 2 Axes>"
            ],
            "image/png": "[encoded data removed]"
          },
          "metadata": {
            "needs_background": "light"
          }
        },
        {
          "output_type": "display_data",
          "data": {
            "text/plain": [
              "<Figure size 1080x360 with 3 Axes>"
            ],
            "image/png": "[encoded data removed]"
          },
          "metadata": {
            "needs_background": "light"
          }
        },
        {
          "output_type": "display_data",
          "data": {
            "text/plain": [
              "<Figure size 4320x360 with 12 Axes>"
            ],
            "image/png": "[encoded data removed]"
          },
          "metadata": {
            "needs_background": "light"
          }
        },
        {
          "output_type": "display_data",
          "data": {
            "text/plain": [
              "<Figure size 1440x360 with 4 Axes>"
            ],
            "image/png": "[encoded data removed]"
          },
          "metadata": {
            "needs_background": "light"
          }
        },
        {
          "output_type": "display_data",
          "data": {
            "text/plain": [
              "<Figure size 720x360 with 2 Axes>"
            ],
            "image/png": "[encoded data removed]"
          },
          "metadata": {
            "needs_background": "light"
          }
        }
      ],
      "source": [
        "#check target label split over categorical features\n",
        "#Find out the relationship between categorical variable and dependent variable\n",
        "for categorical_feature in categorical_features:\n",
        "    sns.catplot(x='y', col=categorical_feature, kind='count', data= df)\n",
        "plt.show()"
      ]
    },
    {
      "cell_type": "code",
      "execution_count": null,
      "metadata": {
        "id": "QLMf8qAZkk8B",
        "outputId": "c9de6ec7-e205-4452-97bb-806b717417f8",
        "colab": {
          "base_uri": "https://localhost:8080/"
        }
      },
      "outputs": [
        {
          "output_type": "stream",
          "name": "stdout",
          "text": [
            "y    job          \n",
            "no   admin.           420\n",
            "     blue-collar      877\n",
            "     entrepreneur     153\n",
            "     housemaid         98\n",
            "     management       838\n",
            "     retired          176\n",
            "     self-employed    163\n",
            "     services         379\n",
            "     student           65\n",
            "     technician       685\n",
            "     unemployed       115\n",
            "     unknown           31\n",
            "yes  admin.            58\n",
            "     blue-collar       69\n",
            "     entrepreneur      15\n",
            "     housemaid         14\n",
            "     management       131\n",
            "     retired           54\n",
            "     self-employed     20\n",
            "     services          38\n",
            "     student           19\n",
            "     technician        83\n",
            "     unemployed        13\n",
            "     unknown            7\n",
            "dtype: int64\n",
            "y    marital \n",
            "no   divorced     451\n",
            "     married     2520\n",
            "     single      1029\n",
            "yes  divorced      77\n",
            "     married      277\n",
            "     single       167\n",
            "dtype: int64\n",
            "y    education\n",
            "no   primary       614\n",
            "     secondary    2061\n",
            "     tertiary     1157\n",
            "     unknown       168\n",
            "yes  primary        64\n",
            "     secondary     245\n",
            "     tertiary      193\n",
            "     unknown        19\n",
            "dtype: int64\n",
            "y    default\n",
            "no   no         3933\n",
            "     yes          67\n",
            "yes  no          512\n",
            "     yes           9\n",
            "dtype: int64\n",
            "y    housing\n",
            "no   no         1661\n",
            "     yes        2339\n",
            "yes  no          301\n",
            "     yes         220\n",
            "dtype: int64\n",
            "y    loan\n",
            "no   no      3352\n",
            "     yes      648\n",
            "yes  no       478\n",
            "     yes       43\n",
            "dtype: int64\n",
            "y    contact  \n",
            "no   cellular     2480\n",
            "     telephone     257\n",
            "     unknown      1263\n",
            "yes  cellular      416\n",
            "     telephone      44\n",
            "     unknown        61\n",
            "dtype: int64\n",
            "y    month\n",
            "no   apr       237\n",
            "     aug       554\n",
            "     dec        11\n",
            "     feb       184\n",
            "     jan       132\n",
            "     jul       645\n",
            "     jun       476\n",
            "     mar        28\n",
            "     may      1305\n",
            "     nov       350\n",
            "     oct        43\n",
            "     sep        35\n",
            "yes  apr        56\n",
            "     aug        79\n",
            "     dec         9\n",
            "     feb        38\n",
            "     jan        16\n",
            "     jul        61\n",
            "     jun        55\n",
            "     mar        21\n",
            "     may        93\n",
            "     nov        39\n",
            "     oct        37\n",
            "     sep        17\n",
            "dtype: int64\n",
            "y    poutcome\n",
            "no   failure      427\n",
            "     other        159\n",
            "     success       46\n",
            "     unknown     3368\n",
            "yes  failure       63\n",
            "     other         38\n",
            "     success       83\n",
            "     unknown      337\n",
            "dtype: int64\n",
            "y    y  \n",
            "no   no     4000\n",
            "yes  yes     521\n",
            "dtype: int64\n"
          ]
        }
      ],
      "source": [
        "#Check target label split over categorical features and find the count\n",
        "for categorical_feature in categorical_features:\n",
        "    print(df.groupby(['y',categorical_feature]).size())"
      ]
    },
    {
      "cell_type": "markdown",
      "metadata": {
        "id": "1xffwMBekk8B"
      },
      "source": [
        "**Take-away**:\n",
        "- retired client has high interest on deposit\n",
        "- client who has housing loan seems to be not interested much on deposit\n",
        "- if pre campagin outcome that is poutcome=success then, there is high chance of client to show interest on deposit\n",
        "- in month of March, September, October and December, client show high interest to deposit\n",
        "- in month of may, records are high but client interst ratio is very less"
      ]
    },
    {
      "cell_type": "markdown",
      "metadata": {
        "id": "8quaihzykk8B"
      },
      "source": [
        "**7. Explore the Numerical Features**"
      ]
    },
    {
      "cell_type": "code",
      "execution_count": null,
      "metadata": {
        "id": "GV14Imtskk8B",
        "outputId": "2d836a4c-55a2-433f-c71e-28ad57d55924",
        "colab": {
          "base_uri": "https://localhost:8080/",
          "height": 223
        }
      },
      "outputs": [
        {
          "output_type": "stream",
          "name": "stdout",
          "text": [
            "Number of numerical variables:  7\n"
          ]
        },
        {
          "output_type": "execute_result",
          "data": {
            "text/plain": [
              "   age  balance  day  duration  campaign  pdays  previous\n",
              "0   30     1787   19        79         1     -1         0\n",
              "1   33     4789   11       220         1    339         4\n",
              "2   35     1350   16       185         1    330         1\n",
              "3   30     1476    3       199         4     -1         0\n",
              "4   59        0    5       226         1     -1         0"
            ],
            "text/html": [
              "\n",
              "  <div id=\"df-179e54b9-1df6-4c36-a139-faadbf2f3a62\">\n",
              "    <div class=\"colab-df-container\">\n",
              "      <div>\n",
              "<style scoped>\n",
              "    .dataframe tbody tr th:only-of-type {\n",
              "        vertical-align: middle;\n",
              "    }\n",
              "\n",
              "    .dataframe tbody tr th {\n",
              "        vertical-align: top;\n",
              "    }\n",
              "\n",
              "    .dataframe thead th {\n",
              "        text-align: right;\n",
              "    }\n",
              "</style>\n",
              "<table border=\"1\" class=\"dataframe\">\n",
              "  <thead>\n",
              "    <tr style=\"text-align: right;\">\n",
              "      <th></th>\n",
              "      <th>age</th>\n",
              "      <th>balance</th>\n",
              "      <th>day</th>\n",
              "      <th>duration</th>\n",
              "      <th>campaign</th>\n",
              "      <th>pdays</th>\n",
              "      <th>previous</th>\n",
              "    </tr>\n",
              "  </thead>\n",
              "  <tbody>\n",
              "    <tr>\n",
              "      <th>0</th>\n",
              "      <td>30</td>\n",
              "      <td>1787</td>\n",
              "      <td>19</td>\n",
              "      <td>79</td>\n",
              "      <td>1</td>\n",
              "      <td>-1</td>\n",
              "      <td>0</td>\n",
              "    </tr>\n",
              "    <tr>\n",
              "      <th>1</th>\n",
              "      <td>33</td>\n",
              "      <td>4789</td>\n",
              "      <td>11</td>\n",
              "      <td>220</td>\n",
              "      <td>1</td>\n",
              "      <td>339</td>\n",
              "      <td>4</td>\n",
              "    </tr>\n",
              "    <tr>\n",
              "      <th>2</th>\n",
              "      <td>35</td>\n",
              "      <td>1350</td>\n",
              "      <td>16</td>\n",
              "      <td>185</td>\n",
              "      <td>1</td>\n",
              "      <td>330</td>\n",
              "      <td>1</td>\n",
              "    </tr>\n",
              "    <tr>\n",
              "      <th>3</th>\n",
              "      <td>30</td>\n",
              "      <td>1476</td>\n",
              "      <td>3</td>\n",
              "      <td>199</td>\n",
              "      <td>4</td>\n",
              "      <td>-1</td>\n",
              "      <td>0</td>\n",
              "    </tr>\n",
              "    <tr>\n",
              "      <th>4</th>\n",
              "      <td>59</td>\n",
              "      <td>0</td>\n",
              "      <td>5</td>\n",
              "      <td>226</td>\n",
              "      <td>1</td>\n",
              "      <td>-1</td>\n",
              "      <td>0</td>\n",
              "    </tr>\n",
              "  </tbody>\n",
              "</table>\n",
              "</div>\n",
              "      <button class=\"colab-df-convert\" onclick=\"convertToInteractive('df-179e54b9-1df6-4c36-a139-faadbf2f3a62')\"\n",
              "              title=\"Convert this dataframe to an interactive table.\"\n",
              "              style=\"display:none;\">\n",
              "        \n",
              "  <svg xmlns=\"http://www.w3.org/2000/svg\" height=\"24px\"viewBox=\"0 0 24 24\"\n",
              "       width=\"24px\">\n",
              "    <path d=\"M0 0h24v24H0V0z\" fill=\"none\"/>\n",
              "    <path d=\"M18.56 5.44l.94 2.06.94-2.06 2.06-.94-2.06-.94-.94-2.06-.94 2.06-2.06.94zm-11 1L8.5 8.5l.94-2.06 2.06-.94-2.06-.94L8.5 2.5l-.94 2.06-2.06.94zm10 10l.94 2.06.94-2.06 2.06-.94-2.06-.94-.94-2.06-.94 2.06-2.06.94z\"/><path d=\"M17.41 7.96l-1.37-1.37c-.4-.4-.92-.59-1.43-.59-.52 0-1.04.2-1.43.59L10.3 9.45l-7.72 7.72c-.78.78-.78 2.05 0 2.83L4 21.41c.39.39.9.59 1.41.59.51 0 1.02-.2 1.41-.59l7.78-7.78 2.81-2.81c.8-.78.8-2.07 0-2.86zM5.41 20L4 18.59l7.72-7.72 1.47 1.35L5.41 20z\"/>\n",
              "  </svg>\n",
              "      </button>\n",
              "      \n",
              "  <style>\n",
              "    .colab-df-container {\n",
              "      display:flex;\n",
              "      flex-wrap:wrap;\n",
              "      gap: 12px;\n",
              "    }\n",
              "\n",
              "    .colab-df-convert {\n",
              "      background-color: #E8F0FE;\n",
              "      border: none;\n",
              "      border-radius: 50%;\n",
              "      cursor: pointer;\n",
              "      display: none;\n",
              "      fill: #1967D2;\n",
              "      height: 32px;\n",
              "      padding: 0 0 0 0;\n",
              "      width: 32px;\n",
              "    }\n",
              "\n",
              "    .colab-df-convert:hover {\n",
              "      background-color: #E2EBFA;\n",
              "      box-shadow: 0px 1px 2px rgba(60, 64, 67, 0.3), 0px 1px 3px 1px rgba(60, 64, 67, 0.15);\n",
              "      fill: #174EA6;\n",
              "    }\n",
              "\n",
              "    [theme=dark] .colab-df-convert {\n",
              "      background-color: #3B4455;\n",
              "      fill: #D2E3FC;\n",
              "    }\n",
              "\n",
              "    [theme=dark] .colab-df-convert:hover {\n",
              "      background-color: #434B5C;\n",
              "      box-shadow: 0px 1px 3px 1px rgba(0, 0, 0, 0.15);\n",
              "      filter: drop-shadow(0px 1px 2px rgba(0, 0, 0, 0.3));\n",
              "      fill: #FFFFFF;\n",
              "    }\n",
              "  </style>\n",
              "\n",
              "      <script>\n",
              "        const buttonEl =\n",
              "          document.querySelector('#df-179e54b9-1df6-4c36-a139-faadbf2f3a62 button.colab-df-convert');\n",
              "        buttonEl.style.display =\n",
              "          google.colab.kernel.accessAllowed ? 'block' : 'none';\n",
              "\n",
              "        async function convertToInteractive(key) {\n",
              "          const element = document.querySelector('#df-179e54b9-1df6-4c36-a139-faadbf2f3a62');\n",
              "          const dataTable =\n",
              "            await google.colab.kernel.invokeFunction('convertToInteractive',\n",
              "                                                     [key], {});\n",
              "          if (!dataTable) return;\n",
              "\n",
              "          const docLinkHtml = 'Like what you see? Visit the ' +\n",
              "            '<a target=\"_blank\" href=https://colab.research.google.com/notebooks/data_table.ipynb>data table notebook</a>'\n",
              "            + ' to learn more about interactive tables.';\n",
              "          element.innerHTML = '';\n",
              "          dataTable['output_type'] = 'display_data';\n",
              "          await google.colab.output.renderOutput(dataTable, element);\n",
              "          const docLink = document.createElement('div');\n",
              "          docLink.innerHTML = docLinkHtml;\n",
              "          element.appendChild(docLink);\n",
              "        }\n",
              "      </script>\n",
              "    </div>\n",
              "  </div>\n",
              "  "
            ]
          },
          "metadata": {},
          "execution_count": 23
        }
      ],
      "source": [
        "# list of numerical variables\n",
        "numerical_features = [feature for feature in df.columns if ((df[feature].dtypes != 'O') & (feature not in ['deposit']))]\n",
        "print('Number of numerical variables: ', len(numerical_features))\n",
        "\n",
        "# visualise the numerical variables\n",
        "df[numerical_features].head()"
      ]
    },
    {
      "cell_type": "markdown",
      "metadata": {
        "id": "Uet9tEuGkk8B"
      },
      "source": [
        "**Take-away**:\n",
        "- there are 7 numerical features"
      ]
    },
    {
      "cell_type": "markdown",
      "metadata": {
        "id": "QEYLapZYkk8B"
      },
      "source": [
        "**8. Find Discrete Numerical Features**"
      ]
    },
    {
      "cell_type": "code",
      "execution_count": null,
      "metadata": {
        "id": "4we8hKZfkk8B",
        "outputId": "a5575920-96d6-449e-bde4-ffdcc2ddabd2",
        "colab": {
          "base_uri": "https://localhost:8080/"
        }
      },
      "outputs": [
        {
          "output_type": "stream",
          "name": "stdout",
          "text": [
            "Discrete Variables Count: 1\n"
          ]
        }
      ],
      "source": [
        "discrete_feature=[feature for feature in numerical_features if len(df[feature].unique())<25]\n",
        "print(\"Discrete Variables Count: {}\".format(len(discrete_feature)))"
      ]
    },
    {
      "cell_type": "markdown",
      "metadata": {
        "id": "EWbdQq7Pkk8B"
      },
      "source": [
        "**Take-away**:\n",
        "- there is no Discrete Variables in give dataset"
      ]
    },
    {
      "cell_type": "markdown",
      "metadata": {
        "id": "BQLKU5Ozkk8C"
      },
      "source": [
        "**9. Relation between Discrete numerical Features and Labels**\n",
        "- NA"
      ]
    },
    {
      "cell_type": "markdown",
      "metadata": {
        "id": "JZiUzb3Dkk8C"
      },
      "source": [
        "**10. Find Continous Numerical Features**"
      ]
    },
    {
      "cell_type": "code",
      "execution_count": null,
      "metadata": {
        "id": "k4eXBg45kk8C",
        "outputId": "1234f0d8-b201-4e21-b19a-49571895c1bf",
        "colab": {
          "base_uri": "https://localhost:8080/"
        }
      },
      "outputs": [
        {
          "output_type": "stream",
          "name": "stdout",
          "text": [
            "Continuous feature Count 6\n"
          ]
        }
      ],
      "source": [
        "continuous_features=[feature for feature in numerical_features if feature not in discrete_feature+['y']]\n",
        "print(\"Continuous feature Count {}\".format(len(continuous_features)))"
      ]
    },
    {
      "cell_type": "markdown",
      "metadata": {
        "id": "SVK1Guowkk8C"
      },
      "source": [
        "**Take-away**:\n",
        "- there are 7 continuous numerical features"
      ]
    },
    {
      "cell_type": "markdown",
      "metadata": {
        "id": "LONUmaepkk8C"
      },
      "source": [
        "**11. Distribution of Continous Numerical Features**"
      ]
    },
    {
      "cell_type": "code",
      "execution_count": null,
      "metadata": {
        "id": "3v-blK-2kk8C",
        "outputId": "ae7ddd17-e641-46b6-974e-40b56ceacb93",
        "colab": {
          "base_uri": "https://localhost:8080/",
          "height": 621
        }
      },
      "outputs": [
        {
          "output_type": "stream",
          "name": "stderr",
          "text": [
            "/usr/local/lib/python3.7/dist-packages/seaborn/distributions.py:2619: FutureWarning: `distplot` is a deprecated function and will be removed in a future version. Please adapt your code to use either `displot` (a figure-level function with similar flexibility) or `histplot` (an axes-level function for histograms).\n",
            "  warnings.warn(msg, FutureWarning)\n",
            "/usr/local/lib/python3.7/dist-packages/seaborn/distributions.py:2619: FutureWarning: `distplot` is a deprecated function and will be removed in a future version. Please adapt your code to use either `displot` (a figure-level function with similar flexibility) or `histplot` (an axes-level function for histograms).\n",
            "  warnings.warn(msg, FutureWarning)\n",
            "/usr/local/lib/python3.7/dist-packages/seaborn/distributions.py:2619: FutureWarning: `distplot` is a deprecated function and will be removed in a future version. Please adapt your code to use either `displot` (a figure-level function with similar flexibility) or `histplot` (an axes-level function for histograms).\n",
            "  warnings.warn(msg, FutureWarning)\n",
            "/usr/local/lib/python3.7/dist-packages/seaborn/distributions.py:2619: FutureWarning: `distplot` is a deprecated function and will be removed in a future version. Please adapt your code to use either `displot` (a figure-level function with similar flexibility) or `histplot` (an axes-level function for histograms).\n",
            "  warnings.warn(msg, FutureWarning)\n",
            "/usr/local/lib/python3.7/dist-packages/seaborn/distributions.py:2619: FutureWarning: `distplot` is a deprecated function and will be removed in a future version. Please adapt your code to use either `displot` (a figure-level function with similar flexibility) or `histplot` (an axes-level function for histograms).\n",
            "  warnings.warn(msg, FutureWarning)\n",
            "/usr/local/lib/python3.7/dist-packages/seaborn/distributions.py:2619: FutureWarning: `distplot` is a deprecated function and will be removed in a future version. Please adapt your code to use either `displot` (a figure-level function with similar flexibility) or `histplot` (an axes-level function for histograms).\n",
            "  warnings.warn(msg, FutureWarning)\n"
          ]
        },
        {
          "output_type": "display_data",
          "data": {
            "text/plain": [
              "<Figure size 1440x4320 with 6 Axes>"
            ],
            "image/png": "[encoded data removed]"
          },
          "metadata": {}
        }
      ],
      "source": [
        "#plot a univariate distribution of continues observations\n",
        "plt.figure(figsize=(20,60), facecolor='white')\n",
        "plotnumber =1\n",
        "for continuous_feature in continuous_features:\n",
        "    ax = plt.subplot(12,3,plotnumber)\n",
        "    sns.distplot(df[continuous_feature])\n",
        "    plt.xlabel(continuous_feature)\n",
        "    plotnumber+=1\n",
        "plt.show()"
      ]
    },
    {
      "cell_type": "markdown",
      "metadata": {
        "id": "9WtUvL6ukk8C"
      },
      "source": [
        "**Take-away**:\n",
        "- it seems age, days distributed normally\n",
        "- balance, duration, compaign, pdays and previous heavely skewed towards left and seems to be have some outliers."
      ]
    },
    {
      "cell_type": "markdown",
      "metadata": {
        "id": "iCCXyPGCkk8C"
      },
      "source": [
        "**12. Relation between Continous numerical Features and Labels**"
      ]
    },
    {
      "cell_type": "code",
      "execution_count": null,
      "metadata": {
        "id": "AM4ObHIzkk8C",
        "outputId": "5acc486f-517c-4db5-8881-915c52d02560",
        "colab": {
          "base_uri": "https://localhost:8080/",
          "height": 590
        }
      },
      "outputs": [
        {
          "output_type": "display_data",
          "data": {
            "text/plain": [
              "<Figure size 1440x4320 with 6 Axes>"
            ],
            "image/png": "[encoded data removed]"
          },
          "metadata": {}
        }
      ],
      "source": [
        "#boxplot to show target distribution with respect numerical features\n",
        "plt.figure(figsize=(20,60), facecolor='white')\n",
        "plotnumber =1\n",
        "for feature in continuous_features:\n",
        "    ax = plt.subplot(12,3,plotnumber)\n",
        "    sns.boxplot(x=\"y\", y= df[feature], data=df)\n",
        "    plt.xlabel(feature)\n",
        "    plotnumber+=1\n",
        "plt.show()"
      ]
    },
    {
      "cell_type": "markdown",
      "metadata": {
        "id": "TyETB_xnkk8C"
      },
      "source": [
        "**Take-away**:\n",
        "- client shows interest on deposit who had discussion for longer duration"
      ]
    },
    {
      "cell_type": "markdown",
      "metadata": {
        "id": "f5Lla0Eikk8C"
      },
      "source": [
        "**13. Find Outliers in numerical features**"
      ]
    },
    {
      "cell_type": "code",
      "execution_count": null,
      "metadata": {
        "id": "ZqHZGgGYkk8C",
        "outputId": "b410686e-c546-48bd-8b7d-f4cece7c86e4",
        "colab": {
          "base_uri": "https://localhost:8080/",
          "height": 871
        }
      },
      "outputs": [
        {
          "output_type": "stream",
          "name": "stderr",
          "text": [
            "/usr/local/lib/python3.7/dist-packages/seaborn/_decorators.py:43: FutureWarning: Pass the following variable as a keyword arg: x. From version 0.12, the only valid positional argument will be `data`, and passing other arguments without an explicit keyword will result in an error or misinterpretation.\n",
            "  FutureWarning\n",
            "/usr/local/lib/python3.7/dist-packages/seaborn/_decorators.py:43: FutureWarning: Pass the following variable as a keyword arg: x. From version 0.12, the only valid positional argument will be `data`, and passing other arguments without an explicit keyword will result in an error or misinterpretation.\n",
            "  FutureWarning\n",
            "/usr/local/lib/python3.7/dist-packages/seaborn/_decorators.py:43: FutureWarning: Pass the following variable as a keyword arg: x. From version 0.12, the only valid positional argument will be `data`, and passing other arguments without an explicit keyword will result in an error or misinterpretation.\n",
            "  FutureWarning\n",
            "/usr/local/lib/python3.7/dist-packages/seaborn/_decorators.py:43: FutureWarning: Pass the following variable as a keyword arg: x. From version 0.12, the only valid positional argument will be `data`, and passing other arguments without an explicit keyword will result in an error or misinterpretation.\n",
            "  FutureWarning\n",
            "/usr/local/lib/python3.7/dist-packages/seaborn/_decorators.py:43: FutureWarning: Pass the following variable as a keyword arg: x. From version 0.12, the only valid positional argument will be `data`, and passing other arguments without an explicit keyword will result in an error or misinterpretation.\n",
            "  FutureWarning\n",
            "/usr/local/lib/python3.7/dist-packages/seaborn/_decorators.py:43: FutureWarning: Pass the following variable as a keyword arg: x. From version 0.12, the only valid positional argument will be `data`, and passing other arguments without an explicit keyword will result in an error or misinterpretation.\n",
            "  FutureWarning\n",
            "/usr/local/lib/python3.7/dist-packages/seaborn/_decorators.py:43: FutureWarning: Pass the following variable as a keyword arg: x. From version 0.12, the only valid positional argument will be `data`, and passing other arguments without an explicit keyword will result in an error or misinterpretation.\n",
            "  FutureWarning\n"
          ]
        },
        {
          "output_type": "display_data",
          "data": {
            "text/plain": [
              "<Figure size 1440x4320 with 7 Axes>"
            ],
            "image/png": "[encoded data removed]"
          },
          "metadata": {}
        }
      ],
      "source": [
        "#boxplot on numerical features to find outliers\n",
        "plt.figure(figsize=(20,60), facecolor='white')\n",
        "plotnumber =1\n",
        "for numerical_feature in numerical_features:\n",
        "    ax = plt.subplot(12,3,plotnumber)\n",
        "    sns.boxplot(df[numerical_feature])\n",
        "    plt.xlabel(numerical_feature)\n",
        "    plotnumber+=1\n",
        "plt.show()"
      ]
    },
    {
      "cell_type": "markdown",
      "metadata": {
        "id": "0Xs-bLKpkk8C"
      },
      "source": [
        "**Take-away**:\n",
        "- age, balance, duration, compaign, pdays and previous has some outliers"
      ]
    },
    {
      "cell_type": "markdown",
      "metadata": {
        "id": "alVjFRoVkk8C"
      },
      "source": [
        "**14. Explore the Correlation between numerical features**"
      ]
    },
    {
      "cell_type": "code",
      "execution_count": null,
      "metadata": {
        "id": "oA-f2mwJkk8C",
        "outputId": "a12c0b16-df28-47bc-eefb-ec9e5406300c",
        "colab": {
          "base_uri": "https://localhost:8080/",
          "height": 449
        }
      },
      "outputs": [
        {
          "output_type": "execute_result",
          "data": {
            "text/plain": [
              "<matplotlib.axes._subplots.AxesSubplot at 0x7fdf67a80c90>"
            ]
          },
          "metadata": {},
          "execution_count": 30
        },
        {
          "output_type": "display_data",
          "data": {
            "text/plain": [
              "<Figure size 1080x504 with 2 Axes>"
            ],
            "image/png": "[encoded data removed]"
          },
          "metadata": {
            "needs_background": "light"
          }
        }
      ],
      "source": [
        "## Checking for correlation\n",
        "cor_mat=df.corr()\n",
        "fig = plt.figure(figsize=(15,7))\n",
        "sns.heatmap(cor_mat,annot=True)"
      ]
    },
    {
      "cell_type": "markdown",
      "metadata": {
        "id": "b1AXTtQTkk8D"
      },
      "source": [
        "**Take-away**:\n",
        "- it seems no feature is heavily correlated with other features"
      ]
    },
    {
      "cell_type": "markdown",
      "metadata": {
        "id": "TN9vtiv0kk8D"
      },
      "source": [
        "**15. Check the Data set is balanced or not based on target values in classification**"
      ]
    },
    {
      "cell_type": "code",
      "execution_count": null,
      "metadata": {
        "id": "S79AONmdkk8D",
        "outputId": "a66ba94b-eabd-4c6c-bb13-58aa8557a02a",
        "colab": {
          "base_uri": "https://localhost:8080/",
          "height": 279
        }
      },
      "outputs": [
        {
          "output_type": "display_data",
          "data": {
            "text/plain": [
              "<Figure size 432x288 with 1 Axes>"
            ],
            "image/png": "[encoded data removed]"
          },
          "metadata": {
            "needs_background": "light"
          }
        }
      ],
      "source": [
        "#total patient count based on cardio_results\n",
        "sns.countplot(x='y',data=df)\n",
        "plt.show()"
      ]
    },
    {
      "cell_type": "code",
      "execution_count": null,
      "metadata": {
        "id": "v0zxz8k5kk8D",
        "outputId": "dfe041ac-690d-4b4e-d922-1ae63e0c9cfd",
        "colab": {
          "base_uri": "https://localhost:8080/"
        }
      },
      "outputs": [
        {
          "output_type": "execute_result",
          "data": {
            "text/plain": [
              "y\n",
              "no     4000\n",
              "yes     521\n",
              "Name: y, dtype: int64"
            ]
          },
          "metadata": {},
          "execution_count": 33
        }
      ],
      "source": [
        "df['y'].groupby(df['y']).count()"
      ]
    },
    {
      "cell_type": "markdown",
      "metadata": {
        "id": "lar2uOxPkk8D"
      },
      "source": [
        "**Take-away**:\n",
        "- given dataset seems to be balanced."
      ]
    },
    {
      "cell_type": "markdown",
      "metadata": {
        "id": "erfv2WPXkk8D"
      },
      "source": [
        "# Feature Engineering"
      ]
    },
    {
      "cell_type": "markdown",
      "source": [
        "# New Section"
      ],
      "metadata": {
        "id": "sIMIrD__eFkF"
      }
    },
    {
      "cell_type": "markdown",
      "metadata": {
        "id": "lgI4iNxnkk8D"
      },
      "source": [
        "- Drop unwanted Features\n",
        "- Handle Missing Values\n",
        "- Handle Categorical Features\n",
        "- Handle Feature Scalling\n",
        "- Remove Outliers"
      ]
    },
    {
      "cell_type": "markdown",
      "metadata": {
        "id": "6h0jRcmvkk8D"
      },
      "source": [
        "As per Exploratory Data Analysis EDA,\n",
        "- no missing value found\n",
        "- no feature found with one value\n",
        "- 9 categorical features\n",
        "- defaut features does not play imp role\n",
        "- it seems some outliers found (age, balance, duration, compaign, pdays and previous has some outliers)"
      ]
    },
    {
      "cell_type": "code",
      "execution_count": null,
      "metadata": {
        "id": "Zrwi7lfakk8D"
      },
      "outputs": [],
      "source": [
        "df2=df.copy()"
      ]
    },
    {
      "cell_type": "code",
      "execution_count": null,
      "metadata": {
        "id": "jadYecD0kk8D",
        "outputId": "7c87b1dc-616e-44cd-951c-38ddaf0bf0df"
      },
      "outputs": [
        {
          "data": {
            "text/html": [
              "<div>\n",
              "<style scoped>\n",
              "    .dataframe tbody tr th:only-of-type {\n",
              "        vertical-align: middle;\n",
              "    }\n",
              "\n",
              "    .dataframe tbody tr th {\n",
              "        vertical-align: top;\n",
              "    }\n",
              "\n",
              "    .dataframe thead th {\n",
              "        text-align: right;\n",
              "    }\n",
              "</style>\n",
              "<table border=\"1\" class=\"dataframe\">\n",
              "  <thead>\n",
              "    <tr style=\"text-align: right;\">\n",
              "      <th></th>\n",
              "      <th>age</th>\n",
              "      <th>job</th>\n",
              "      <th>marital</th>\n",
              "      <th>education</th>\n",
              "      <th>default</th>\n",
              "      <th>balance</th>\n",
              "      <th>housing</th>\n",
              "      <th>loan</th>\n",
              "      <th>contact</th>\n",
              "      <th>day</th>\n",
              "      <th>month</th>\n",
              "      <th>duration</th>\n",
              "      <th>campaign</th>\n",
              "      <th>pdays</th>\n",
              "      <th>previous</th>\n",
              "      <th>poutcome</th>\n",
              "      <th>deposit</th>\n",
              "    </tr>\n",
              "  </thead>\n",
              "  <tbody>\n",
              "    <tr>\n",
              "      <th>0</th>\n",
              "      <td>59</td>\n",
              "      <td>admin.</td>\n",
              "      <td>married</td>\n",
              "      <td>secondary</td>\n",
              "      <td>no</td>\n",
              "      <td>2343</td>\n",
              "      <td>yes</td>\n",
              "      <td>no</td>\n",
              "      <td>unknown</td>\n",
              "      <td>5</td>\n",
              "      <td>may</td>\n",
              "      <td>1042</td>\n",
              "      <td>1</td>\n",
              "      <td>-1</td>\n",
              "      <td>0</td>\n",
              "      <td>unknown</td>\n",
              "      <td>yes</td>\n",
              "    </tr>\n",
              "    <tr>\n",
              "      <th>1</th>\n",
              "      <td>56</td>\n",
              "      <td>admin.</td>\n",
              "      <td>married</td>\n",
              "      <td>secondary</td>\n",
              "      <td>no</td>\n",
              "      <td>45</td>\n",
              "      <td>no</td>\n",
              "      <td>no</td>\n",
              "      <td>unknown</td>\n",
              "      <td>5</td>\n",
              "      <td>may</td>\n",
              "      <td>1467</td>\n",
              "      <td>1</td>\n",
              "      <td>-1</td>\n",
              "      <td>0</td>\n",
              "      <td>unknown</td>\n",
              "      <td>yes</td>\n",
              "    </tr>\n",
              "    <tr>\n",
              "      <th>2</th>\n",
              "      <td>41</td>\n",
              "      <td>technician</td>\n",
              "      <td>married</td>\n",
              "      <td>secondary</td>\n",
              "      <td>no</td>\n",
              "      <td>1270</td>\n",
              "      <td>yes</td>\n",
              "      <td>no</td>\n",
              "      <td>unknown</td>\n",
              "      <td>5</td>\n",
              "      <td>may</td>\n",
              "      <td>1389</td>\n",
              "      <td>1</td>\n",
              "      <td>-1</td>\n",
              "      <td>0</td>\n",
              "      <td>unknown</td>\n",
              "      <td>yes</td>\n",
              "    </tr>\n",
              "    <tr>\n",
              "      <th>3</th>\n",
              "      <td>55</td>\n",
              "      <td>services</td>\n",
              "      <td>married</td>\n",
              "      <td>secondary</td>\n",
              "      <td>no</td>\n",
              "      <td>2476</td>\n",
              "      <td>yes</td>\n",
              "      <td>no</td>\n",
              "      <td>unknown</td>\n",
              "      <td>5</td>\n",
              "      <td>may</td>\n",
              "      <td>579</td>\n",
              "      <td>1</td>\n",
              "      <td>-1</td>\n",
              "      <td>0</td>\n",
              "      <td>unknown</td>\n",
              "      <td>yes</td>\n",
              "    </tr>\n",
              "    <tr>\n",
              "      <th>4</th>\n",
              "      <td>54</td>\n",
              "      <td>admin.</td>\n",
              "      <td>married</td>\n",
              "      <td>tertiary</td>\n",
              "      <td>no</td>\n",
              "      <td>184</td>\n",
              "      <td>no</td>\n",
              "      <td>no</td>\n",
              "      <td>unknown</td>\n",
              "      <td>5</td>\n",
              "      <td>may</td>\n",
              "      <td>673</td>\n",
              "      <td>2</td>\n",
              "      <td>-1</td>\n",
              "      <td>0</td>\n",
              "      <td>unknown</td>\n",
              "      <td>yes</td>\n",
              "    </tr>\n",
              "  </tbody>\n",
              "</table>\n",
              "</div>"
            ],
            "text/plain": [
              "   age         job  marital  education default  balance housing loan  contact  \\\n",
              "0   59      admin.  married  secondary      no     2343     yes   no  unknown   \n",
              "1   56      admin.  married  secondary      no       45      no   no  unknown   \n",
              "2   41  technician  married  secondary      no     1270     yes   no  unknown   \n",
              "3   55    services  married  secondary      no     2476     yes   no  unknown   \n",
              "4   54      admin.  married   tertiary      no      184      no   no  unknown   \n",
              "\n",
              "   day month  duration  campaign  pdays  previous poutcome deposit  \n",
              "0    5   may      1042         1     -1         0  unknown     yes  \n",
              "1    5   may      1467         1     -1         0  unknown     yes  \n",
              "2    5   may      1389         1     -1         0  unknown     yes  \n",
              "3    5   may       579         1     -1         0  unknown     yes  \n",
              "4    5   may       673         2     -1         0  unknown     yes  "
            ]
          },
          "execution_count": 25,
          "metadata": {},
          "output_type": "execute_result"
        }
      ],
      "source": [
        "df2.head()"
      ]
    },
    {
      "cell_type": "code",
      "execution_count": null,
      "metadata": {
        "id": "OmWMkInfkk8D",
        "outputId": "0e6d9119-78d1-4208-f145-cefac08c4498"
      },
      "outputs": [
        {
          "data": {
            "text/plain": [
              "(11162, 17)"
            ]
          },
          "execution_count": 26,
          "metadata": {},
          "output_type": "execute_result"
        }
      ],
      "source": [
        "df2.shape"
      ]
    },
    {
      "cell_type": "code",
      "execution_count": null,
      "metadata": {
        "id": "GrkdYcGokk8D",
        "outputId": "9bf26c0f-2d16-46f1-f36f-d5b073554a00"
      },
      "outputs": [
        {
          "data": {
            "text/plain": [
              "deposit  default\n",
              "no       no         5757\n",
              "         yes         116\n",
              "yes      no         5237\n",
              "         yes          52\n",
              "dtype: int64"
            ]
          },
          "execution_count": 29,
          "metadata": {},
          "output_type": "execute_result"
        }
      ],
      "source": [
        "#defaut features does not play imp role\n",
        "df2.groupby(['deposit','default']).size()"
      ]
    },
    {
      "cell_type": "code",
      "execution_count": null,
      "metadata": {
        "id": "yUgxmOpVkk8D"
      },
      "outputs": [],
      "source": [
        "df2.drop(['default'],axis=1, inplace=True)"
      ]
    },
    {
      "cell_type": "code",
      "execution_count": null,
      "metadata": {
        "id": "fJxVXVBbkk8D",
        "outputId": "7d1812d9-8044-4de2-cd26-0c63cb6c7ca3"
      },
      "outputs": [
        {
          "data": {
            "text/plain": [
              "deposit  pdays\n",
              "no       -1       4940\n",
              "          1          2\n",
              "          2          6\n",
              "          5          2\n",
              "          6          2\n",
              "                  ... \n",
              "yes       804        1\n",
              "          805        1\n",
              "          828        1\n",
              "          842        1\n",
              "          854        1\n",
              "Length: 732, dtype: int64"
            ]
          },
          "execution_count": 31,
          "metadata": {},
          "output_type": "execute_result"
        }
      ],
      "source": [
        "df2.groupby(['deposit','pdays']).size()"
      ]
    },
    {
      "cell_type": "code",
      "execution_count": null,
      "metadata": {
        "id": "eMavUWSPkk8D"
      },
      "outputs": [],
      "source": [
        "# drop pdays as it has -1 value for around 40%+\n",
        "df2.drop(['pdays'],axis=1, inplace=True)"
      ]
    },
    {
      "cell_type": "code",
      "execution_count": null,
      "metadata": {
        "id": "wSTs9R4Xkk8E",
        "outputId": "1e31343f-d4a8-4645-89a2-813a168a056a"
      },
      "outputs": [
        {
          "data": {
            "text/plain": [
              "age\n",
              "18     8\n",
              "19    13\n",
              "20    20\n",
              "21    30\n",
              "22    48\n",
              "      ..\n",
              "89     1\n",
              "90     2\n",
              "92     2\n",
              "93     2\n",
              "95     1\n",
              "Name: age, Length: 76, dtype: int64"
            ]
          },
          "execution_count": 33,
          "metadata": {},
          "output_type": "execute_result"
        }
      ],
      "source": [
        "# remove outliers in feature age...\n",
        "df2.groupby('age',sort=True)['age'].count()\n",
        "# these can be ignored and values lies in between 18 to 95"
      ]
    },
    {
      "cell_type": "code",
      "execution_count": null,
      "metadata": {
        "id": "JmBHRYwAkk8E",
        "outputId": "45bd2a12-28bd-4ec9-b85b-0ca5e72df5c9"
      },
      "outputs": [
        {
          "data": {
            "text/plain": [
              "deposit  balance\n",
              "no       -6847      1\n",
              "         -2712      1\n",
              "         -2282      1\n",
              "         -2049      1\n",
              "         -1965      1\n",
              "                   ..\n",
              "yes       34646     1\n",
              "          36252     1\n",
              "          45248     1\n",
              "          52587     2\n",
              "          81204     2\n",
              "Name: balance, Length: 5082, dtype: int64"
            ]
          },
          "execution_count": 34,
          "metadata": {},
          "output_type": "execute_result"
        }
      ],
      "source": [
        "# remove outliers in feature balance...\n",
        "df2.groupby(['deposit','balance'],sort=True)['balance'].count()\n",
        "# these outlier should not be remove as balance goes high, client show interest on deposit"
      ]
    },
    {
      "cell_type": "code",
      "execution_count": null,
      "metadata": {
        "id": "4pQr--clkk8E",
        "outputId": "ee305577-54f8-4dae-d3d9-6c6f1ea1536a"
      },
      "outputs": [
        {
          "data": {
            "text/plain": [
              "deposit  duration\n",
              "no       2           1\n",
              "         3           1\n",
              "         4           2\n",
              "         5           4\n",
              "         6           6\n",
              "                    ..\n",
              "yes      3094        1\n",
              "         3102        1\n",
              "         3183        1\n",
              "         3253        1\n",
              "         3881        1\n",
              "Name: duration, Length: 2157, dtype: int64"
            ]
          },
          "execution_count": 35,
          "metadata": {},
          "output_type": "execute_result"
        }
      ],
      "source": [
        "# remove outliers in feature duration...\n",
        "df2.groupby(['deposit','duration'],sort=True)['duration'].count()\n",
        "# these outlier should not be remove as duration goes high, client show interest on deposit"
      ]
    },
    {
      "cell_type": "code",
      "execution_count": null,
      "metadata": {
        "id": "s_dbLzBHkk8E",
        "outputId": "c2bf1e40-0fda-4871-bd58-ff5bd3e5c989"
      },
      "outputs": [
        {
          "data": {
            "text/plain": [
              "deposit  campaign\n",
              "no       1           2237\n",
              "         2           1627\n",
              "         3            703\n",
              "         4            454\n",
              "         5            239\n",
              "         6            173\n",
              "         7             92\n",
              "         8             96\n",
              "         9             51\n",
              "         10            38\n",
              "         11            24\n",
              "         12            25\n",
              "         13            24\n",
              "         14            11\n",
              "         15             9\n",
              "         16             7\n",
              "         17             8\n",
              "         18             8\n",
              "         19             5\n",
              "         20             4\n",
              "         21             7\n",
              "         22             4\n",
              "         23             3\n",
              "         24             4\n",
              "         25             3\n",
              "         26             3\n",
              "         27             1\n",
              "         28             1\n",
              "         29             1\n",
              "         30             4\n",
              "         31             1\n",
              "         32             1\n",
              "         33             1\n",
              "         41             1\n",
              "         43             2\n",
              "         63             1\n",
              "yes      1           2561\n",
              "         2           1401\n",
              "         3            618\n",
              "         4            317\n",
              "         5            139\n",
              "         6             92\n",
              "         7             47\n",
              "         8             32\n",
              "         9             21\n",
              "         10            14\n",
              "         11            16\n",
              "         12             4\n",
              "         13             6\n",
              "         14             4\n",
              "         15             4\n",
              "         16             2\n",
              "         17             6\n",
              "         20             1\n",
              "         21             1\n",
              "         24             1\n",
              "         29             1\n",
              "         32             1\n",
              "Name: campaign, dtype: int64"
            ]
          },
          "execution_count": 36,
          "metadata": {},
          "output_type": "execute_result"
        }
      ],
      "source": [
        "# remove outliers in feature campaign...\n",
        "df2.groupby(['deposit','campaign'],sort=True)['campaign'].count()"
      ]
    },
    {
      "cell_type": "code",
      "execution_count": null,
      "metadata": {
        "id": "sCLnZxfAkk8E"
      },
      "outputs": [],
      "source": [
        "df3 = df2[df2['campaign'] < 33]"
      ]
    },
    {
      "cell_type": "code",
      "execution_count": null,
      "metadata": {
        "id": "YW9TAP0lkk8E",
        "outputId": "43464b6c-563c-4822-d15d-5185900177a9"
      },
      "outputs": [
        {
          "data": {
            "text/plain": [
              "deposit  campaign\n",
              "no       1           2237\n",
              "         2           1627\n",
              "         3            703\n",
              "         4            454\n",
              "         5            239\n",
              "         6            173\n",
              "         7             92\n",
              "         8             96\n",
              "         9             51\n",
              "         10            38\n",
              "         11            24\n",
              "         12            25\n",
              "         13            24\n",
              "         14            11\n",
              "         15             9\n",
              "         16             7\n",
              "         17             8\n",
              "         18             8\n",
              "         19             5\n",
              "         20             4\n",
              "         21             7\n",
              "         22             4\n",
              "         23             3\n",
              "         24             4\n",
              "         25             3\n",
              "         26             3\n",
              "         27             1\n",
              "         28             1\n",
              "         29             1\n",
              "         30             4\n",
              "         31             1\n",
              "         32             1\n",
              "yes      1           2561\n",
              "         2           1401\n",
              "         3            618\n",
              "         4            317\n",
              "         5            139\n",
              "         6             92\n",
              "         7             47\n",
              "         8             32\n",
              "         9             21\n",
              "         10            14\n",
              "         11            16\n",
              "         12             4\n",
              "         13             6\n",
              "         14             4\n",
              "         15             4\n",
              "         16             2\n",
              "         17             6\n",
              "         20             1\n",
              "         21             1\n",
              "         24             1\n",
              "         29             1\n",
              "         32             1\n",
              "Name: campaign, dtype: int64"
            ]
          },
          "execution_count": 38,
          "metadata": {},
          "output_type": "execute_result"
        }
      ],
      "source": [
        "df3.groupby(['deposit','campaign'],sort=True)['campaign'].count()"
      ]
    },
    {
      "cell_type": "code",
      "execution_count": null,
      "metadata": {
        "id": "L6S-GSA_kk8E",
        "outputId": "7883027a-2a6d-4c41-cf05-4fc90c5d950b",
        "colab": {
          "base_uri": "https://localhost:8080/",
          "height": 183
        }
      },
      "outputs": [
        {
          "output_type": "error",
          "ename": "NameError",
          "evalue": "ignored",
          "traceback": [
            "\u001b[0;31m---------------------------------------------------------------------------\u001b[0m",
            "\u001b[0;31mNameError\u001b[0m                                 Traceback (most recent call last)",
            "\u001b[0;32m<ipython-input-1-949f4f316b47>\u001b[0m in \u001b[0;36m<module>\u001b[0;34m\u001b[0m\n\u001b[1;32m      1\u001b[0m \u001b[0;31m# remove outliers in feature previous...\u001b[0m\u001b[0;34m\u001b[0m\u001b[0;34m\u001b[0m\u001b[0;34m\u001b[0m\u001b[0m\n\u001b[0;32m----> 2\u001b[0;31m \u001b[0mdf3\u001b[0m\u001b[0;34m.\u001b[0m\u001b[0mgroupby\u001b[0m\u001b[0;34m(\u001b[0m\u001b[0;34m[\u001b[0m\u001b[0;34m'poutcome'\u001b[0m\u001b[0;34m,\u001b[0m\u001b[0;34m'previous'\u001b[0m\u001b[0;34m]\u001b[0m\u001b[0;34m,\u001b[0m\u001b[0msort\u001b[0m\u001b[0;34m=\u001b[0m\u001b[0;32mTrue\u001b[0m\u001b[0;34m)\u001b[0m\u001b[0;34m[\u001b[0m\u001b[0;34m'previous'\u001b[0m\u001b[0;34m]\u001b[0m\u001b[0;34m.\u001b[0m\u001b[0mcount\u001b[0m\u001b[0;34m(\u001b[0m\u001b[0;34m)\u001b[0m\u001b[0;34m\u001b[0m\u001b[0;34m\u001b[0m\u001b[0m\n\u001b[0m",
            "\u001b[0;31mNameError\u001b[0m: name 'df3' is not defined"
          ]
        }
      ],
      "source": [
        "# remove outliers in feature previous...\n",
        "df3.groupby(['poutcome','previous'],sort=True)['previous'].count()"
      ]
    },
    {
      "cell_type": "code",
      "execution_count": null,
      "metadata": {
        "id": "fYqnYKODkk8E"
      },
      "outputs": [],
      "source": [
        "df4 = df3[df3['previous'] < 31]"
      ]
    },
    {
      "cell_type": "code",
      "execution_count": null,
      "metadata": {
        "id": "kY9FdfNHkk8E"
      },
      "outputs": [],
      "source": [
        "cat_columns = ['job', 'marital', 'education', 'contact', 'month', 'poutcome']\n",
        "for col in  cat_columns:\n",
        "    df4 = pd.concat([df4.drop(col, axis=1),pd.get_dummies(df4[col], prefix=col, prefix_sep='_',drop_first=True, dummy_na=False)], axis=1)"
      ]
    },
    {
      "cell_type": "code",
      "execution_count": null,
      "metadata": {
        "id": "eVe2bUZOkk8E"
      },
      "outputs": [],
      "source": [
        "bool_columns = ['housing', 'loan', 'deposit']\n",
        "for col in  bool_columns:\n",
        "    df4[col+'_new']=df4[col].apply(lambda x : 1 if x == 'yes' else 0)\n",
        "    df4.drop(col, axis=1, inplace=True)"
      ]
    },
    {
      "cell_type": "code",
      "execution_count": null,
      "metadata": {
        "id": "__nt5h6Hkk8E",
        "outputId": "7f19b541-d564-4f3d-ece2-92c749b13208"
      },
      "outputs": [
        {
          "data": {
            "text/html": [
              "<div>\n",
              "<style scoped>\n",
              "    .dataframe tbody tr th:only-of-type {\n",
              "        vertical-align: middle;\n",
              "    }\n",
              "\n",
              "    .dataframe tbody tr th {\n",
              "        vertical-align: top;\n",
              "    }\n",
              "\n",
              "    .dataframe thead th {\n",
              "        text-align: right;\n",
              "    }\n",
              "</style>\n",
              "<table border=\"1\" class=\"dataframe\">\n",
              "  <thead>\n",
              "    <tr style=\"text-align: right;\">\n",
              "      <th></th>\n",
              "      <th>age</th>\n",
              "      <th>balance</th>\n",
              "      <th>day</th>\n",
              "      <th>duration</th>\n",
              "      <th>campaign</th>\n",
              "      <th>previous</th>\n",
              "      <th>job_blue-collar</th>\n",
              "      <th>job_entrepreneur</th>\n",
              "      <th>job_housemaid</th>\n",
              "      <th>job_management</th>\n",
              "      <th>...</th>\n",
              "      <th>month_may</th>\n",
              "      <th>month_nov</th>\n",
              "      <th>month_oct</th>\n",
              "      <th>month_sep</th>\n",
              "      <th>poutcome_other</th>\n",
              "      <th>poutcome_success</th>\n",
              "      <th>poutcome_unknown</th>\n",
              "      <th>housing_new</th>\n",
              "      <th>loan_new</th>\n",
              "      <th>deposit_new</th>\n",
              "    </tr>\n",
              "  </thead>\n",
              "  <tbody>\n",
              "    <tr>\n",
              "      <th>0</th>\n",
              "      <td>59</td>\n",
              "      <td>2343</td>\n",
              "      <td>5</td>\n",
              "      <td>1042</td>\n",
              "      <td>1</td>\n",
              "      <td>0</td>\n",
              "      <td>0</td>\n",
              "      <td>0</td>\n",
              "      <td>0</td>\n",
              "      <td>0</td>\n",
              "      <td>...</td>\n",
              "      <td>1</td>\n",
              "      <td>0</td>\n",
              "      <td>0</td>\n",
              "      <td>0</td>\n",
              "      <td>0</td>\n",
              "      <td>0</td>\n",
              "      <td>1</td>\n",
              "      <td>1</td>\n",
              "      <td>0</td>\n",
              "      <td>1</td>\n",
              "    </tr>\n",
              "    <tr>\n",
              "      <th>1</th>\n",
              "      <td>56</td>\n",
              "      <td>45</td>\n",
              "      <td>5</td>\n",
              "      <td>1467</td>\n",
              "      <td>1</td>\n",
              "      <td>0</td>\n",
              "      <td>0</td>\n",
              "      <td>0</td>\n",
              "      <td>0</td>\n",
              "      <td>0</td>\n",
              "      <td>...</td>\n",
              "      <td>1</td>\n",
              "      <td>0</td>\n",
              "      <td>0</td>\n",
              "      <td>0</td>\n",
              "      <td>0</td>\n",
              "      <td>0</td>\n",
              "      <td>1</td>\n",
              "      <td>0</td>\n",
              "      <td>0</td>\n",
              "      <td>1</td>\n",
              "    </tr>\n",
              "    <tr>\n",
              "      <th>2</th>\n",
              "      <td>41</td>\n",
              "      <td>1270</td>\n",
              "      <td>5</td>\n",
              "      <td>1389</td>\n",
              "      <td>1</td>\n",
              "      <td>0</td>\n",
              "      <td>0</td>\n",
              "      <td>0</td>\n",
              "      <td>0</td>\n",
              "      <td>0</td>\n",
              "      <td>...</td>\n",
              "      <td>1</td>\n",
              "      <td>0</td>\n",
              "      <td>0</td>\n",
              "      <td>0</td>\n",
              "      <td>0</td>\n",
              "      <td>0</td>\n",
              "      <td>1</td>\n",
              "      <td>1</td>\n",
              "      <td>0</td>\n",
              "      <td>1</td>\n",
              "    </tr>\n",
              "    <tr>\n",
              "      <th>3</th>\n",
              "      <td>55</td>\n",
              "      <td>2476</td>\n",
              "      <td>5</td>\n",
              "      <td>579</td>\n",
              "      <td>1</td>\n",
              "      <td>0</td>\n",
              "      <td>0</td>\n",
              "      <td>0</td>\n",
              "      <td>0</td>\n",
              "      <td>0</td>\n",
              "      <td>...</td>\n",
              "      <td>1</td>\n",
              "      <td>0</td>\n",
              "      <td>0</td>\n",
              "      <td>0</td>\n",
              "      <td>0</td>\n",
              "      <td>0</td>\n",
              "      <td>1</td>\n",
              "      <td>1</td>\n",
              "      <td>0</td>\n",
              "      <td>1</td>\n",
              "    </tr>\n",
              "    <tr>\n",
              "      <th>4</th>\n",
              "      <td>54</td>\n",
              "      <td>184</td>\n",
              "      <td>5</td>\n",
              "      <td>673</td>\n",
              "      <td>2</td>\n",
              "      <td>0</td>\n",
              "      <td>0</td>\n",
              "      <td>0</td>\n",
              "      <td>0</td>\n",
              "      <td>0</td>\n",
              "      <td>...</td>\n",
              "      <td>1</td>\n",
              "      <td>0</td>\n",
              "      <td>0</td>\n",
              "      <td>0</td>\n",
              "      <td>0</td>\n",
              "      <td>0</td>\n",
              "      <td>1</td>\n",
              "      <td>0</td>\n",
              "      <td>0</td>\n",
              "      <td>1</td>\n",
              "    </tr>\n",
              "  </tbody>\n",
              "</table>\n",
              "<p>5 rows × 41 columns</p>\n",
              "</div>"
            ],
            "text/plain": [
              "   age  balance  day  duration  campaign  previous  job_blue-collar  \\\n",
              "0   59     2343    5      1042         1         0                0   \n",
              "1   56       45    5      1467         1         0                0   \n",
              "2   41     1270    5      1389         1         0                0   \n",
              "3   55     2476    5       579         1         0                0   \n",
              "4   54      184    5       673         2         0                0   \n",
              "\n",
              "   job_entrepreneur  job_housemaid  job_management  ...  month_may  month_nov  \\\n",
              "0                 0              0               0  ...          1          0   \n",
              "1                 0              0               0  ...          1          0   \n",
              "2                 0              0               0  ...          1          0   \n",
              "3                 0              0               0  ...          1          0   \n",
              "4                 0              0               0  ...          1          0   \n",
              "\n",
              "   month_oct  month_sep  poutcome_other  poutcome_success  poutcome_unknown  \\\n",
              "0          0          0               0                 0                 1   \n",
              "1          0          0               0                 0                 1   \n",
              "2          0          0               0                 0                 1   \n",
              "3          0          0               0                 0                 1   \n",
              "4          0          0               0                 0                 1   \n",
              "\n",
              "   housing_new  loan_new  deposit_new  \n",
              "0            1         0            1  \n",
              "1            0         0            1  \n",
              "2            1         0            1  \n",
              "3            1         0            1  \n",
              "4            0         0            1  \n",
              "\n",
              "[5 rows x 41 columns]"
            ]
          },
          "execution_count": 43,
          "metadata": {},
          "output_type": "execute_result"
        }
      ],
      "source": [
        "df4.head()"
      ]
    },
    {
      "cell_type": "markdown",
      "metadata": {
        "id": "fi_23Ta4kk8E"
      },
      "source": [
        "# Split Dataset into Training set and Test set"
      ]
    },
    {
      "cell_type": "code",
      "execution_count": null,
      "metadata": {
        "id": "23Txj10Vkk8E"
      },
      "outputs": [],
      "source": [
        "X = df4.drop(['deposit_new'],axis=1)\n",
        "y = df4['deposit_new']\n",
        "from sklearn.model_selection import train_test_split\n",
        "X_train, X_test, y_train, y_test = train_test_split(X,y,test_size=0.2, random_state=0)"
      ]
    },
    {
      "cell_type": "code",
      "execution_count": null,
      "metadata": {
        "id": "ef-pCNvVkk8E",
        "outputId": "00d4fef0-cd29-4d9f-d38d-e1081c70619c"
      },
      "outputs": [
        {
          "data": {
            "text/plain": [
              "8921"
            ]
          },
          "execution_count": 46,
          "metadata": {},
          "output_type": "execute_result"
        }
      ],
      "source": [
        "len(X_train)"
      ]
    },
    {
      "cell_type": "code",
      "execution_count": null,
      "metadata": {
        "id": "lz7bj9rikk8E",
        "outputId": "859909fa-6b84-4dd0-a64b-275a66c4136c"
      },
      "outputs": [
        {
          "data": {
            "text/plain": [
              "2231"
            ]
          },
          "execution_count": 47,
          "metadata": {},
          "output_type": "execute_result"
        }
      ],
      "source": [
        "len(X_test)"
      ]
    },
    {
      "cell_type": "markdown",
      "metadata": {
        "id": "rE_XqN8ukk8E"
      },
      "source": [
        "# Model Selection"
      ]
    },
    {
      "cell_type": "code",
      "execution_count": null,
      "metadata": {
        "id": "_XwgpTIykk8F"
      },
      "outputs": [],
      "source": [
        "# will try to use below two models that are RandomForestClassifier and XGBClassifier\n",
        "from sklearn.ensemble import RandomForestClassifier\n",
        "from xgboost import XGBClassifier\n",
        "from sklearn.model_selection import GridSearchCV"
      ]
    },
    {
      "cell_type": "code",
      "execution_count": null,
      "metadata": {
        "id": "EXiPMz8zkk8F",
        "outputId": "cb2866bd-dc02-4d8a-8971-c4e282f7bf4b"
      },
      "outputs": [
        {
          "name": "stdout",
          "output_type": "stream",
          "text": [
            "[0.85434174 0.85257848 0.84304933 0.85482063 0.85369955]\n",
            "0.8516979437514915\n"
          ]
        }
      ],
      "source": [
        "from sklearn.model_selection import cross_val_score\n",
        "model_score =cross_val_score(estimator=RandomForestClassifier(),X=X_train, y=y_train, cv=5)\n",
        "print(model_score)\n",
        "print(model_score.mean())"
      ]
    },
    {
      "cell_type": "code",
      "execution_count": null,
      "metadata": {
        "id": "ZItTEmCQkk8F",
        "outputId": "55458c64-339c-4327-ed02-6c98eced4ee1"
      },
      "outputs": [
        {
          "name": "stdout",
          "output_type": "stream",
          "text": [
            "[0.85546218 0.85706278 0.84248879 0.85201794 0.85313901]\n",
            "0.8520341410106644\n"
          ]
        }
      ],
      "source": [
        "from sklearn.model_selection import cross_val_score\n",
        "model_score =cross_val_score(estimator=XGBClassifier(),X=X_train, y=y_train, cv=5)\n",
        "print(model_score)\n",
        "print(model_score.mean())"
      ]
    },
    {
      "cell_type": "code",
      "execution_count": null,
      "metadata": {
        "id": "OunZIDZ9kk8F"
      },
      "outputs": [],
      "source": [
        "#create param\n",
        "model_param = {\n",
        "    'RandomForestClassifier':{\n",
        "        'model':RandomForestClassifier(),\n",
        "        'param':{\n",
        "            'n_estimators': [10, 50, 100, 130],\n",
        "            'criterion': ['gini', 'entropy'],\n",
        "            'max_depth': range(2, 4, 1),\n",
        "            'max_features': ['auto', 'log2']\n",
        "        }\n",
        "    },\n",
        "    'XGBClassifier':{\n",
        "        'model':XGBClassifier(objective='binary:logistic'),\n",
        "        'param':{\n",
        "           'learning_rate': [0.5, 0.1, 0.01, 0.001],\n",
        "            'max_depth': [3, 5, 10, 20],\n",
        "            'n_estimators': [10, 50, 100, 200]\n",
        "        }\n",
        "    }\n",
        "}"
      ]
    },
    {
      "cell_type": "code",
      "execution_count": null,
      "metadata": {
        "id": "-evJAtoMkk8F"
      },
      "outputs": [],
      "source": [
        "#gridsearch\n",
        "scores =[]\n",
        "for model_name, mp in model_param.items():\n",
        "    model_selection = GridSearchCV(estimator=mp['model'],param_grid=mp['param'],cv=5,return_train_score=False)\n",
        "    model_selection.fit(X,y)\n",
        "    scores.append({\n",
        "        'model': model_name,\n",
        "        'best_score': model_selection.best_score_,\n",
        "        'best_params': model_selection.best_params_\n",
        "    })"
      ]
    },
    {
      "cell_type": "code",
      "execution_count": null,
      "metadata": {
        "id": "nWL1AbmPkk8F"
      },
      "outputs": [],
      "source": [
        "scores"
      ]
    },
    {
      "cell_type": "markdown",
      "metadata": {
        "id": "S8pLoWTdkk8F"
      },
      "source": [
        "# Model Building"
      ]
    },
    {
      "cell_type": "code",
      "execution_count": null,
      "metadata": {
        "id": "_zoweve2kk8F"
      },
      "outputs": [],
      "source": [
        "#as per above results, xgboost gives best result and hence selecting same to model building...\n",
        "model_xgb = XGBClassifier(objective='binary:logistic',learning_rate=0.1,max_depth=10,n_estimators=100)"
      ]
    },
    {
      "cell_type": "code",
      "execution_count": null,
      "metadata": {
        "id": "70ifVr9Gkk8F",
        "outputId": "c59c1186-6b59-466d-a035-1b7606cc24d9"
      },
      "outputs": [
        {
          "data": {
            "text/plain": [
              "XGBClassifier(base_score=0.5, booster=None, colsample_bylevel=1,\n",
              "              colsample_bynode=1, colsample_bytree=1, gamma=0, gpu_id=-1,\n",
              "              importance_type='gain', interaction_constraints=None,\n",
              "              learning_rate=0.1, max_delta_step=0, max_depth=10,\n",
              "              min_child_weight=1, missing=nan, monotone_constraints=None,\n",
              "              n_estimators=100, n_jobs=0, num_parallel_tree=1,\n",
              "              objective='binary:logistic', random_state=0, reg_alpha=0,\n",
              "              reg_lambda=1, scale_pos_weight=1, subsample=1, tree_method=None,\n",
              "              validate_parameters=False, verbosity=None)"
            ]
          },
          "execution_count": 53,
          "metadata": {},
          "output_type": "execute_result"
        }
      ],
      "source": [
        "model_xgb.fit(X_train,y_train)"
      ]
    },
    {
      "cell_type": "code",
      "execution_count": null,
      "metadata": {
        "id": "de0gftKlkk8F",
        "outputId": "77f9e4f0-bc3a-4174-9e79-8aa70c57244c"
      },
      "outputs": [
        {
          "data": {
            "text/plain": [
              "0.8583594800537876"
            ]
          },
          "execution_count": 54,
          "metadata": {},
          "output_type": "execute_result"
        }
      ],
      "source": [
        "model_xgb.score(X_test,y_test)"
      ]
    },
    {
      "cell_type": "code",
      "execution_count": null,
      "metadata": {
        "id": "tjnRYP6Qkk8F",
        "outputId": "2ad2e2a3-3bd0-4510-b074-48fd9cd7dc0b"
      },
      "outputs": [
        {
          "data": {
            "image/png": "[encoded data removed]",
            "text/plain": [
              "<Figure size 1080x504 with 1 Axes>"
            ]
          },
          "metadata": {
            "needs_background": "light"
          },
          "output_type": "display_data"
        }
      ],
      "source": [
        "#get feature importances from the model\n",
        "headers = [\"name\", \"score\"]\n",
        "values = sorted(zip(X_train.columns, model_xgb.feature_importances_), key=lambda x: x[1] * -1)\n",
        "xgb_feature_importances = pd.DataFrame(values, columns = headers)\n",
        "\n",
        "#plot feature importances\n",
        "fig = plt.figure(figsize=(15,7))\n",
        "x_pos = np.arange(0, len(xgb_feature_importances))\n",
        "plt.bar(x_pos, xgb_feature_importances['score'])\n",
        "plt.xticks(x_pos, xgb_feature_importances['name'])\n",
        "plt.xticks(rotation=90)\n",
        "plt.title('Feature importances (XGB)')\n",
        "\n",
        "plt.show()"
      ]
    },
    {
      "cell_type": "code",
      "execution_count": null,
      "metadata": {
        "id": "eH67vA_qkk8F",
        "outputId": "4480b093-c27a-41e6-b518-8337db778d18"
      },
      "outputs": [
        {
          "data": {
            "text/plain": [
              "array([[988, 191],\n",
              "       [125, 927]], dtype=int64)"
            ]
          },
          "execution_count": 56,
          "metadata": {},
          "output_type": "execute_result"
        }
      ],
      "source": [
        "#Confusion Matrix\n",
        "from sklearn.metrics import confusion_matrix\n",
        "cm = confusion_matrix(y_test,model_xgb.predict(X_test))\n",
        "cm"
      ]
    },
    {
      "cell_type": "code",
      "execution_count": null,
      "metadata": {
        "id": "49hjoATSkk8F",
        "outputId": "673b818c-d18c-4ea0-f352-14ed2df4ff66"
      },
      "outputs": [
        {
          "data": {
            "image/png": "[encoded data removed]",
            "text/plain": [
              "<Figure size 432x288 with 2 Axes>"
            ]
          },
          "metadata": {
            "needs_background": "light"
          },
          "output_type": "display_data"
        }
      ],
      "source": [
        "#plot the graph\n",
        "from matplotlib import pyplot as plt\n",
        "import seaborn as sn\n",
        "sn.heatmap(cm, annot=True)\n",
        "plt.xlabel('Predicted')\n",
        "plt.ylabel('True Value')\n",
        "plt.show()"
      ]
    }
  ],
  "metadata": {
    "kernelspec": {
      "display_name": "Python 3",
      "language": "python",
      "name": "python3"
    },
    "language_info": {
      "codemirror_mode": {
        "name": "ipython",
        "version": 3
      },
      "file_extension": ".py",
      "mimetype": "text/x-python",
      "name": "python",
      "nbconvert_exporter": "python",
      "pygments_lexer": "ipython3",
      "version": "3.6.10"
    },
    "colab": {
      "provenance": [],
      "collapsed_sections": [
        "fi_23Ta4kk8E",
        "rE_XqN8ukk8E"
      ]
    }
  },
  "nbformat": 4,
  "nbformat_minor": 0
}